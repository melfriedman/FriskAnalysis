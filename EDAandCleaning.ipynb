{
 "cells": [
  {
   "cell_type": "markdown",
   "metadata": {},
   "source": [
    "Analysis starts with importing the dataset and evaluating the values."
   ]
  },
  {
   "cell_type": "code",
   "execution_count": 4,
   "metadata": {},
   "outputs": [],
   "source": [
    "import pandas as pd\n",
    "pd.pandas.set_option('display.max_columns', None)\n",
    "import numpy as np"
   ]
  },
  {
   "cell_type": "code",
   "execution_count": 5,
   "metadata": {},
   "outputs": [
    {
     "data": {
      "text/html": [
       "<div>\n",
       "<style scoped>\n",
       "    .dataframe tbody tr th:only-of-type {\n",
       "        vertical-align: middle;\n",
       "    }\n",
       "\n",
       "    .dataframe tbody tr th {\n",
       "        vertical-align: top;\n",
       "    }\n",
       "\n",
       "    .dataframe thead th {\n",
       "        text-align: right;\n",
       "    }\n",
       "</style>\n",
       "<table border=\"1\" class=\"dataframe\">\n",
       "  <thead>\n",
       "    <tr style=\"text-align: right;\">\n",
       "      <th></th>\n",
       "      <th>Subject Age Group</th>\n",
       "      <th>Subject ID</th>\n",
       "      <th>GO / SC Num</th>\n",
       "      <th>Terry Stop ID</th>\n",
       "      <th>Stop Resolution</th>\n",
       "      <th>Weapon Type</th>\n",
       "      <th>Officer ID</th>\n",
       "      <th>Officer YOB</th>\n",
       "      <th>Officer Gender</th>\n",
       "      <th>Officer Race</th>\n",
       "      <th>Subject Perceived Race</th>\n",
       "      <th>Subject Perceived Gender</th>\n",
       "      <th>Reported Date</th>\n",
       "      <th>Reported Time</th>\n",
       "      <th>Initial Call Type</th>\n",
       "      <th>Final Call Type</th>\n",
       "      <th>Call Type</th>\n",
       "      <th>Officer Squad</th>\n",
       "      <th>Arrest Flag</th>\n",
       "      <th>Frisk Flag</th>\n",
       "      <th>Precinct</th>\n",
       "      <th>Sector</th>\n",
       "      <th>Beat</th>\n",
       "    </tr>\n",
       "  </thead>\n",
       "  <tbody>\n",
       "    <tr>\n",
       "      <th>0</th>\n",
       "      <td>-</td>\n",
       "      <td>-1</td>\n",
       "      <td>20140000120677</td>\n",
       "      <td>92317</td>\n",
       "      <td>Arrest</td>\n",
       "      <td>None</td>\n",
       "      <td>7500</td>\n",
       "      <td>1984</td>\n",
       "      <td>M</td>\n",
       "      <td>Black or African American</td>\n",
       "      <td>Asian</td>\n",
       "      <td>Male</td>\n",
       "      <td>2015-10-16T00:00:00</td>\n",
       "      <td>11:32:00</td>\n",
       "      <td>-</td>\n",
       "      <td>-</td>\n",
       "      <td>-</td>\n",
       "      <td>SOUTH PCT 1ST W - ROBERT</td>\n",
       "      <td>N</td>\n",
       "      <td>N</td>\n",
       "      <td>South</td>\n",
       "      <td>O</td>\n",
       "      <td>O2</td>\n",
       "    </tr>\n",
       "    <tr>\n",
       "      <th>1</th>\n",
       "      <td>-</td>\n",
       "      <td>-1</td>\n",
       "      <td>20150000001463</td>\n",
       "      <td>28806</td>\n",
       "      <td>Field Contact</td>\n",
       "      <td>None</td>\n",
       "      <td>5670</td>\n",
       "      <td>1965</td>\n",
       "      <td>M</td>\n",
       "      <td>White</td>\n",
       "      <td>-</td>\n",
       "      <td>-</td>\n",
       "      <td>2015-03-19T00:00:00</td>\n",
       "      <td>07:59:00</td>\n",
       "      <td>-</td>\n",
       "      <td>-</td>\n",
       "      <td>-</td>\n",
       "      <td>NaN</td>\n",
       "      <td>N</td>\n",
       "      <td>N</td>\n",
       "      <td>-</td>\n",
       "      <td>-</td>\n",
       "      <td>-</td>\n",
       "    </tr>\n",
       "    <tr>\n",
       "      <th>2</th>\n",
       "      <td>-</td>\n",
       "      <td>-1</td>\n",
       "      <td>20150000001516</td>\n",
       "      <td>29599</td>\n",
       "      <td>Field Contact</td>\n",
       "      <td>None</td>\n",
       "      <td>4844</td>\n",
       "      <td>1961</td>\n",
       "      <td>M</td>\n",
       "      <td>White</td>\n",
       "      <td>White</td>\n",
       "      <td>Male</td>\n",
       "      <td>2015-03-21T00:00:00</td>\n",
       "      <td>19:12:00</td>\n",
       "      <td>-</td>\n",
       "      <td>-</td>\n",
       "      <td>-</td>\n",
       "      <td>NaN</td>\n",
       "      <td>N</td>\n",
       "      <td>-</td>\n",
       "      <td>-</td>\n",
       "      <td>-</td>\n",
       "      <td>-</td>\n",
       "    </tr>\n",
       "    <tr>\n",
       "      <th>3</th>\n",
       "      <td>-</td>\n",
       "      <td>-1</td>\n",
       "      <td>20150000001670</td>\n",
       "      <td>32260</td>\n",
       "      <td>Field Contact</td>\n",
       "      <td>None</td>\n",
       "      <td>7539</td>\n",
       "      <td>1963</td>\n",
       "      <td>M</td>\n",
       "      <td>White</td>\n",
       "      <td>-</td>\n",
       "      <td>-</td>\n",
       "      <td>2015-04-01T00:00:00</td>\n",
       "      <td>04:55:00</td>\n",
       "      <td>-</td>\n",
       "      <td>-</td>\n",
       "      <td>-</td>\n",
       "      <td>NaN</td>\n",
       "      <td>N</td>\n",
       "      <td>N</td>\n",
       "      <td>-</td>\n",
       "      <td>-</td>\n",
       "      <td>-</td>\n",
       "    </tr>\n",
       "    <tr>\n",
       "      <th>4</th>\n",
       "      <td>-</td>\n",
       "      <td>-1</td>\n",
       "      <td>20150000001739</td>\n",
       "      <td>33155</td>\n",
       "      <td>Field Contact</td>\n",
       "      <td>None</td>\n",
       "      <td>6973</td>\n",
       "      <td>1977</td>\n",
       "      <td>M</td>\n",
       "      <td>White</td>\n",
       "      <td>Black or African American</td>\n",
       "      <td>Male</td>\n",
       "      <td>2015-04-03T00:00:00</td>\n",
       "      <td>00:41:00</td>\n",
       "      <td>-</td>\n",
       "      <td>-</td>\n",
       "      <td>-</td>\n",
       "      <td>NaN</td>\n",
       "      <td>N</td>\n",
       "      <td>N</td>\n",
       "      <td>-</td>\n",
       "      <td>-</td>\n",
       "      <td>-</td>\n",
       "    </tr>\n",
       "  </tbody>\n",
       "</table>\n",
       "</div>"
      ],
      "text/plain": [
       "  Subject Age Group  Subject ID     GO / SC Num  Terry Stop ID  \\\n",
       "0                 -          -1  20140000120677          92317   \n",
       "1                 -          -1  20150000001463          28806   \n",
       "2                 -          -1  20150000001516          29599   \n",
       "3                 -          -1  20150000001670          32260   \n",
       "4                 -          -1  20150000001739          33155   \n",
       "\n",
       "  Stop Resolution Weapon Type Officer ID  Officer YOB Officer Gender  \\\n",
       "0          Arrest        None     7500           1984              M   \n",
       "1   Field Contact        None     5670           1965              M   \n",
       "2   Field Contact        None     4844           1961              M   \n",
       "3   Field Contact        None     7539           1963              M   \n",
       "4   Field Contact        None     6973           1977              M   \n",
       "\n",
       "                Officer Race     Subject Perceived Race  \\\n",
       "0  Black or African American                      Asian   \n",
       "1                      White                          -   \n",
       "2                      White                      White   \n",
       "3                      White                          -   \n",
       "4                      White  Black or African American   \n",
       "\n",
       "  Subject Perceived Gender        Reported Date Reported Time  \\\n",
       "0                     Male  2015-10-16T00:00:00      11:32:00   \n",
       "1                        -  2015-03-19T00:00:00      07:59:00   \n",
       "2                     Male  2015-03-21T00:00:00      19:12:00   \n",
       "3                        -  2015-04-01T00:00:00      04:55:00   \n",
       "4                     Male  2015-04-03T00:00:00      00:41:00   \n",
       "\n",
       "  Initial Call Type Final Call Type Call Type             Officer Squad  \\\n",
       "0                 -               -         -  SOUTH PCT 1ST W - ROBERT   \n",
       "1                 -               -         -                       NaN   \n",
       "2                 -               -         -                       NaN   \n",
       "3                 -               -         -                       NaN   \n",
       "4                 -               -         -                       NaN   \n",
       "\n",
       "  Arrest Flag Frisk Flag Precinct  Sector    Beat  \n",
       "0           N          N    South  O       O2      \n",
       "1           N          N        -       -       -  \n",
       "2           N          -        -       -       -  \n",
       "3           N          N        -       -       -  \n",
       "4           N          N        -       -       -  "
      ]
     },
     "execution_count": 5,
     "metadata": {},
     "output_type": "execute_result"
    }
   ],
   "source": [
    "df1 = pd.read_csv('Terry_Stops.csv')\n",
    "df1.head()"
   ]
  },
  {
   "cell_type": "markdown",
   "metadata": {},
   "source": [
    "Checking for null values in each column."
   ]
  },
  {
   "cell_type": "code",
   "execution_count": 6,
   "metadata": {},
   "outputs": [
    {
     "data": {
      "text/plain": [
       "Subject Age Group             0\n",
       "Subject ID                    0\n",
       "GO / SC Num                   0\n",
       "Terry Stop ID                 0\n",
       "Stop Resolution               0\n",
       "Weapon Type                   0\n",
       "Officer ID                    0\n",
       "Officer YOB                   0\n",
       "Officer Gender                0\n",
       "Officer Race                  0\n",
       "Subject Perceived Race        0\n",
       "Subject Perceived Gender      0\n",
       "Reported Date                 0\n",
       "Reported Time                 0\n",
       "Initial Call Type             0\n",
       "Final Call Type               0\n",
       "Call Type                     0\n",
       "Officer Squad               603\n",
       "Arrest Flag                   0\n",
       "Frisk Flag                    0\n",
       "Precinct                      0\n",
       "Sector                        0\n",
       "Beat                          0\n",
       "dtype: int64"
      ]
     },
     "execution_count": 6,
     "metadata": {},
     "output_type": "execute_result"
    }
   ],
   "source": [
    "df1.isna().sum()"
   ]
  },
  {
   "cell_type": "markdown",
   "metadata": {},
   "source": [
    "Evaluating column values to see if they should be kept, binned, or dropped."
   ]
  },
  {
   "cell_type": "code",
   "execution_count": 7,
   "metadata": {},
   "outputs": [
    {
     "data": {
      "text/plain": [
       "26 - 35         15080\n",
       "36 - 45          9582\n",
       "18 - 25          9172\n",
       "46 - 55          5867\n",
       "56 and Above     2308\n",
       "1 - 17           1931\n",
       "-                1453\n",
       "Name: Subject Age Group, dtype: int64"
      ]
     },
     "execution_count": 7,
     "metadata": {},
     "output_type": "execute_result"
    }
   ],
   "source": [
    "df1['Subject Age Group'].value_counts()"
   ]
  },
  {
   "cell_type": "code",
   "execution_count": 8,
   "metadata": {},
   "outputs": [
    {
     "data": {
      "text/plain": [
       "Field Contact               18321\n",
       "Offense Report              15219\n",
       "Arrest                      10948\n",
       "Referred for Prosecution      728\n",
       "Citation / Infraction         177\n",
       "Name: Stop Resolution, dtype: int64"
      ]
     },
     "execution_count": 8,
     "metadata": {},
     "output_type": "execute_result"
    }
   ],
   "source": [
    "df1['Stop Resolution'].value_counts()"
   ]
  },
  {
   "cell_type": "code",
   "execution_count": 9,
   "metadata": {},
   "outputs": [
    {
     "data": {
      "text/plain": [
       "None                                 32565\n",
       "-                                    10186\n",
       "Lethal Cutting Instrument             1482\n",
       "Knife/Cutting/Stabbing Instrument      528\n",
       "Handgun                                281\n",
       "Firearm Other                          100\n",
       "Blunt Object/Striking Implement         71\n",
       "Club, Blackjack, Brass Knuckles         49\n",
       "Firearm                                 34\n",
       "Mace/Pepper Spray                       22\n",
       "Other Firearm                           19\n",
       "Firearm (unk type)                      15\n",
       "Club                                     9\n",
       "Taser/Stun Gun                           7\n",
       "None/Not Applicable                      7\n",
       "Rifle                                    7\n",
       "Fire/Incendiary Device                   4\n",
       "Shotgun                                  3\n",
       "Automatic Handgun                        2\n",
       "Brass Knuckles                           1\n",
       "Blackjack                                1\n",
       "Name: Weapon Type, dtype: int64"
      ]
     },
     "execution_count": 9,
     "metadata": {},
     "output_type": "execute_result"
    }
   ],
   "source": [
    "df1['Weapon Type'].value_counts()"
   ]
  },
  {
   "cell_type": "code",
   "execution_count": 10,
   "metadata": {},
   "outputs": [
    {
     "data": {
      "text/plain": [
       "White                                        22177\n",
       "Black or African American                    13520\n",
       "Unknown                                       2437\n",
       "-                                             1803\n",
       "Hispanic                                      1684\n",
       "Asian                                         1453\n",
       "American Indian or Alaska Native              1314\n",
       "Multi-Racial                                   809\n",
       "Other                                          152\n",
       "Native Hawaiian or Other Pacific Islander       44\n",
       "Name: Subject Perceived Race, dtype: int64"
      ]
     },
     "execution_count": 10,
     "metadata": {},
     "output_type": "execute_result"
    }
   ],
   "source": [
    "df1['Subject Perceived Race'].value_counts()"
   ]
  },
  {
   "cell_type": "code",
   "execution_count": 11,
   "metadata": {},
   "outputs": [
    {
     "data": {
      "text/plain": [
       "Male                                                         35515\n",
       "Female                                                        9258\n",
       "Unable to Determine                                            326\n",
       "-                                                              269\n",
       "Unknown                                                         21\n",
       "Gender Diverse (gender non-conforming and/or transgender)        4\n",
       "Name: Subject Perceived Gender, dtype: int64"
      ]
     },
     "execution_count": 11,
     "metadata": {},
     "output_type": "execute_result"
    }
   ],
   "source": [
    "df1['Subject Perceived Gender'].value_counts()"
   ]
  },
  {
   "cell_type": "code",
   "execution_count": 12,
   "metadata": {},
   "outputs": [
    {
     "data": {
      "text/plain": [
       "7456      407\n",
       "7634      341\n",
       "7773      312\n",
       "7765      306\n",
       "7758      301\n",
       "         ... \n",
       "5697        1\n",
       "7558        1\n",
       "5445        1\n",
       "7563        1\n",
       "5875        1\n",
       "Name: Officer ID, Length: 1184, dtype: int64"
      ]
     },
     "execution_count": 12,
     "metadata": {},
     "output_type": "execute_result"
    }
   ],
   "source": [
    "df1['Officer ID'].value_counts()"
   ]
  },
  {
   "cell_type": "code",
   "execution_count": 13,
   "metadata": {},
   "outputs": [
    {
     "data": {
      "text/plain": [
       "1986    3188\n",
       "1987    2905\n",
       "1984    2685\n",
       "1991    2628\n",
       "1985    2437\n",
       "1992    2301\n",
       "1990    2162\n",
       "1988    2007\n",
       "1989    1931\n",
       "1982    1824\n",
       "1983    1675\n",
       "1979    1460\n",
       "1981    1383\n",
       "1993    1354\n",
       "1971    1215\n",
       "1978    1131\n",
       "1995    1009\n",
       "1976     991\n",
       "1977     983\n",
       "1973     903\n",
       "1994     834\n",
       "1980     790\n",
       "1967     707\n",
       "1968     623\n",
       "1970     583\n",
       "1974     551\n",
       "1996     541\n",
       "1969     532\n",
       "1975     521\n",
       "1962     453\n",
       "1972     420\n",
       "1965     415\n",
       "1964     412\n",
       "1997     345\n",
       "1963     256\n",
       "1966     223\n",
       "1958     218\n",
       "1961     209\n",
       "1959     174\n",
       "1960     161\n",
       "1900      66\n",
       "1954      44\n",
       "1957      43\n",
       "1953      32\n",
       "1955      21\n",
       "1956      17\n",
       "1948      11\n",
       "1952       9\n",
       "1949       5\n",
       "1998       2\n",
       "1946       2\n",
       "1951       1\n",
       "Name: Officer YOB, dtype: int64"
      ]
     },
     "execution_count": 13,
     "metadata": {},
     "output_type": "execute_result"
    }
   ],
   "source": [
    "df1['Officer YOB'].value_counts()"
   ]
  },
  {
   "cell_type": "code",
   "execution_count": 14,
   "metadata": {},
   "outputs": [
    {
     "data": {
      "text/plain": [
       "M    40178\n",
       "F     5186\n",
       "N       29\n",
       "Name: Officer Gender, dtype: int64"
      ]
     },
     "execution_count": 14,
     "metadata": {},
     "output_type": "execute_result"
    }
   ],
   "source": [
    "df1['Officer Gender'].value_counts()"
   ]
  },
  {
   "cell_type": "code",
   "execution_count": 15,
   "metadata": {},
   "outputs": [
    {
     "name": "stdout",
     "output_type": "stream",
     "text": [
      "Counts \n",
      " \n",
      " White                            34480\n",
      "Hispanic or Latino                2588\n",
      "Two or More Races                 2527\n",
      "Asian                             1900\n",
      "Black or African American         1803\n",
      "Not Specified                     1274\n",
      "Nat Hawaiian/Oth Pac Islander      441\n",
      "American Indian/Alaska Native      314\n",
      "Unknown                             66\n",
      "Name: Officer Race, dtype: int64\n",
      "\n",
      " Percentage \n",
      " \n",
      " White                            0.759588\n",
      "Hispanic or Latino               0.057013\n",
      "Two or More Races                0.055669\n",
      "Asian                            0.041857\n",
      "Black or African American        0.039720\n",
      "Not Specified                    0.028066\n",
      "Nat Hawaiian/Oth Pac Islander    0.009715\n",
      "American Indian/Alaska Native    0.006917\n",
      "Unknown                          0.001454\n",
      "Name: Officer Race, dtype: float64\n"
     ]
    }
   ],
   "source": [
    "print(\"Counts \\n \\n\", df1['Officer Race'].value_counts())\n",
    "print(\"\\n Percentage \\n \\n\", df1['Officer Race'].value_counts(normalize = True))"
   ]
  },
  {
   "cell_type": "code",
   "execution_count": 16,
   "metadata": {},
   "outputs": [
    {
     "data": {
      "text/plain": [
       "-                                                 13073\n",
       "SUSPICIOUS STOP - OFFICER INITIATED ONVIEW         2983\n",
       "SUSPICIOUS PERSON, VEHICLE OR INCIDENT             2856\n",
       "DISTURBANCE, MISCELLANEOUS/OTHER                   2328\n",
       "ASLT - IP/JO - WITH OR W/O WPNS (NO SHOOTINGS)     1914\n",
       "                                                  ...  \n",
       "TRACKING ALARM                                        1\n",
       "REQUEST TO WATCH                                      1\n",
       "ALARM - RESIDENTIAL - SILENT/AUD PANIC/DURESS         1\n",
       "WARRANT PICKUP - FROM OTHER AGENCY                    1\n",
       "MISSING - (ALZHEIMER, ENDANGERED, ELDERLY)            1\n",
       "Name: Initial Call Type, Length: 166, dtype: int64"
      ]
     },
     "execution_count": 16,
     "metadata": {},
     "output_type": "execute_result"
    }
   ],
   "source": [
    "df1['Initial Call Type'].value_counts()"
   ]
  },
  {
   "cell_type": "code",
   "execution_count": 17,
   "metadata": {},
   "outputs": [
    {
     "data": {
      "text/plain": [
       "-                                             13073\n",
       "--SUSPICIOUS CIRCUM. - SUSPICIOUS PERSON       3551\n",
       "--PROWLER - TRESPASS                           3188\n",
       "--DISTURBANCE - OTHER                          2589\n",
       "--ASSAULTS, OTHER                              2205\n",
       "                                              ...  \n",
       "-ASSIGNED DUTY - STAKEOUT                         1\n",
       "PROWLER                                           1\n",
       "BIAS -RACIAL, POLITICAL, SEXUAL MOTIVATION        1\n",
       "BURN - RECKLESS BURNING                           1\n",
       "--PREMISE CHECKS - REQUEST TO WATCH               1\n",
       "Name: Final Call Type, Length: 205, dtype: int64"
      ]
     },
     "execution_count": 17,
     "metadata": {},
     "output_type": "execute_result"
    }
   ],
   "source": [
    "df1['Final Call Type'].value_counts()"
   ]
  },
  {
   "cell_type": "code",
   "execution_count": 18,
   "metadata": {},
   "outputs": [
    {
     "data": {
      "text/plain": [
       "911                              20213\n",
       "-                                13073\n",
       "ONVIEW                            8631\n",
       "TELEPHONE OTHER, NOT 911          3166\n",
       "ALARM CALL (NOT POLICE ALARM)      302\n",
       "TEXT MESSAGE                         7\n",
       "SCHEDULED EVENT (RECURRING)          1\n",
       "Name: Call Type, dtype: int64"
      ]
     },
     "execution_count": 18,
     "metadata": {},
     "output_type": "execute_result"
    }
   ],
   "source": [
    "df1['Call Type'].value_counts()"
   ]
  },
  {
   "cell_type": "code",
   "execution_count": 19,
   "metadata": {
    "scrolled": true
   },
   "outputs": [
    {
     "data": {
      "text/plain": [
       "TRAINING - FIELD TRAINING SQUAD                        4803\n",
       "WEST PCT 1ST W - DAVID/MARY                            1502\n",
       "WEST PCT 2ND W - D/M RELIEF                             982\n",
       "SOUTHWEST PCT 2ND W - FRANK                             917\n",
       "NORTH PCT 2ND WATCH - NORTH BEATS                       885\n",
       "                                                       ... \n",
       "RECORDS - DAY SHIFT                                       1\n",
       "DV SQUAD D - ORDER SERVICE                                1\n",
       "TRAINING - ADVANCED - SQUAD C                             1\n",
       "COMMUNITY OUTREACH - YOUTH VIOLENCE -SCHOOLS DETAIL       1\n",
       "COMM - INTERNET AND TELEPHONE REPORTING (ITRU)            1\n",
       "Name: Officer Squad, Length: 169, dtype: int64"
      ]
     },
     "execution_count": 19,
     "metadata": {},
     "output_type": "execute_result"
    }
   ],
   "source": [
    "df1['Officer Squad'].value_counts()"
   ]
  },
  {
   "cell_type": "code",
   "execution_count": 20,
   "metadata": {},
   "outputs": [
    {
     "data": {
      "text/plain": [
       "West         10785\n",
       "North         9993\n",
       "-             9759\n",
       "East          6001\n",
       "South         5424\n",
       "Southwest     2320\n",
       "SouthWest      866\n",
       "Unknown        200\n",
       "OOJ             30\n",
       "FK ERROR        15\n",
       "Name: Precinct, dtype: int64"
      ]
     },
     "execution_count": 20,
     "metadata": {},
     "output_type": "execute_result"
    }
   ],
   "source": [
    "df1['Precinct'].value_counts()"
   ]
  },
  {
   "cell_type": "code",
   "execution_count": 21,
   "metadata": {
    "scrolled": true
   },
   "outputs": [
    {
     "data": {
      "text/plain": [
       "-         9957\n",
       "E         2337\n",
       "M         2270\n",
       "N         2191\n",
       "K         1762\n",
       "B         1658\n",
       "L         1639\n",
       "K         1529\n",
       "D         1512\n",
       "R         1455\n",
       "F         1378\n",
       "S         1348\n",
       "U         1302\n",
       "O         1161\n",
       "J         1119\n",
       "G         1087\n",
       "M         1074\n",
       "C         1037\n",
       "D         1001\n",
       "Q          967\n",
       "W          941\n",
       "E          831\n",
       "Q          666\n",
       "N          610\n",
       "O          525\n",
       "F          518\n",
       "R          505\n",
       "S          431\n",
       "B          419\n",
       "U          392\n",
       "G          391\n",
       "J          350\n",
       "W          348\n",
       "C          317\n",
       "L          312\n",
       "99          53\n",
       "Name: Sector, dtype: int64"
      ]
     },
     "execution_count": 21,
     "metadata": {},
     "output_type": "execute_result"
    }
   ],
   "source": [
    "df1['Sector'].value_counts()"
   ]
  },
  {
   "cell_type": "code",
   "execution_count": 22,
   "metadata": {},
   "outputs": [
    {
     "data": {
      "text/plain": [
       "20150000190790    16\n",
       "20160000378750    16\n",
       "20180000134604    14\n",
       "20190000441736    13\n",
       "20170000132836    13\n",
       "                  ..\n",
       "20150000003136     1\n",
       "20180000479302     1\n",
       "20200000255962     1\n",
       "20200000239682     1\n",
       "20180000071981     1\n",
       "Name: GO / SC Num, Length: 35504, dtype: int64"
      ]
     },
     "execution_count": 22,
     "metadata": {},
     "output_type": "execute_result"
    }
   ],
   "source": [
    "df1['GO / SC Num'].value_counts()"
   ]
  },
  {
   "cell_type": "code",
   "execution_count": 23,
   "metadata": {},
   "outputs": [
    {
     "data": {
      "text/plain": [
       "-1              34718\n",
       " 7726859935        19\n",
       " 7753260438        13\n",
       " 7727117712        12\n",
       " 7726559999         9\n",
       "                ...  \n",
       " 7704469768         1\n",
       " 7733768490         1\n",
       " 7727685936         1\n",
       " 9727654195         1\n",
       " 16219707395        1\n",
       "Name: Subject ID, Length: 8301, dtype: int64"
      ]
     },
     "execution_count": 23,
     "metadata": {},
     "output_type": "execute_result"
    }
   ],
   "source": [
    "df1['Subject ID'].value_counts()"
   ]
  },
  {
   "cell_type": "code",
   "execution_count": 24,
   "metadata": {},
   "outputs": [
    {
     "data": {
      "text/plain": [
       "13080077761    3\n",
       "15045077325    3\n",
       "12686594000    2\n",
       "17542218019    2\n",
       "12105013403    2\n",
       "              ..\n",
       "13103094430    1\n",
       "154270         1\n",
       "269792         1\n",
       "97455          1\n",
       "131072         1\n",
       "Name: Terry Stop ID, Length: 45368, dtype: int64"
      ]
     },
     "execution_count": 24,
     "metadata": {},
     "output_type": "execute_result"
    }
   ],
   "source": [
    "df1['Terry Stop ID'].value_counts()"
   ]
  },
  {
   "cell_type": "markdown",
   "metadata": {},
   "source": [
    "Dropping columns that do not seem important to the model or have messy data and turning this into a new dataframe."
   ]
  },
  {
   "cell_type": "code",
   "execution_count": 25,
   "metadata": {},
   "outputs": [
    {
     "data": {
      "text/html": [
       "<div>\n",
       "<style scoped>\n",
       "    .dataframe tbody tr th:only-of-type {\n",
       "        vertical-align: middle;\n",
       "    }\n",
       "\n",
       "    .dataframe tbody tr th {\n",
       "        vertical-align: top;\n",
       "    }\n",
       "\n",
       "    .dataframe thead th {\n",
       "        text-align: right;\n",
       "    }\n",
       "</style>\n",
       "<table border=\"1\" class=\"dataframe\">\n",
       "  <thead>\n",
       "    <tr style=\"text-align: right;\">\n",
       "      <th></th>\n",
       "      <th>Subject Age Group</th>\n",
       "      <th>Stop Resolution</th>\n",
       "      <th>Weapon Type</th>\n",
       "      <th>Officer ID</th>\n",
       "      <th>Officer YOB</th>\n",
       "      <th>Officer Gender</th>\n",
       "      <th>Officer Race</th>\n",
       "      <th>Subject Perceived Race</th>\n",
       "      <th>Subject Perceived Gender</th>\n",
       "      <th>Reported Date</th>\n",
       "      <th>Reported Time</th>\n",
       "      <th>Arrest Flag</th>\n",
       "      <th>Frisk Flag</th>\n",
       "    </tr>\n",
       "  </thead>\n",
       "  <tbody>\n",
       "    <tr>\n",
       "      <th>0</th>\n",
       "      <td>-</td>\n",
       "      <td>Arrest</td>\n",
       "      <td>None</td>\n",
       "      <td>7500</td>\n",
       "      <td>1984</td>\n",
       "      <td>M</td>\n",
       "      <td>Black or African American</td>\n",
       "      <td>Asian</td>\n",
       "      <td>Male</td>\n",
       "      <td>2015-10-16T00:00:00</td>\n",
       "      <td>11:32:00</td>\n",
       "      <td>N</td>\n",
       "      <td>N</td>\n",
       "    </tr>\n",
       "    <tr>\n",
       "      <th>1</th>\n",
       "      <td>-</td>\n",
       "      <td>Field Contact</td>\n",
       "      <td>None</td>\n",
       "      <td>5670</td>\n",
       "      <td>1965</td>\n",
       "      <td>M</td>\n",
       "      <td>White</td>\n",
       "      <td>-</td>\n",
       "      <td>-</td>\n",
       "      <td>2015-03-19T00:00:00</td>\n",
       "      <td>07:59:00</td>\n",
       "      <td>N</td>\n",
       "      <td>N</td>\n",
       "    </tr>\n",
       "    <tr>\n",
       "      <th>2</th>\n",
       "      <td>-</td>\n",
       "      <td>Field Contact</td>\n",
       "      <td>None</td>\n",
       "      <td>4844</td>\n",
       "      <td>1961</td>\n",
       "      <td>M</td>\n",
       "      <td>White</td>\n",
       "      <td>White</td>\n",
       "      <td>Male</td>\n",
       "      <td>2015-03-21T00:00:00</td>\n",
       "      <td>19:12:00</td>\n",
       "      <td>N</td>\n",
       "      <td>-</td>\n",
       "    </tr>\n",
       "    <tr>\n",
       "      <th>3</th>\n",
       "      <td>-</td>\n",
       "      <td>Field Contact</td>\n",
       "      <td>None</td>\n",
       "      <td>7539</td>\n",
       "      <td>1963</td>\n",
       "      <td>M</td>\n",
       "      <td>White</td>\n",
       "      <td>-</td>\n",
       "      <td>-</td>\n",
       "      <td>2015-04-01T00:00:00</td>\n",
       "      <td>04:55:00</td>\n",
       "      <td>N</td>\n",
       "      <td>N</td>\n",
       "    </tr>\n",
       "    <tr>\n",
       "      <th>4</th>\n",
       "      <td>-</td>\n",
       "      <td>Field Contact</td>\n",
       "      <td>None</td>\n",
       "      <td>6973</td>\n",
       "      <td>1977</td>\n",
       "      <td>M</td>\n",
       "      <td>White</td>\n",
       "      <td>Black or African American</td>\n",
       "      <td>Male</td>\n",
       "      <td>2015-04-03T00:00:00</td>\n",
       "      <td>00:41:00</td>\n",
       "      <td>N</td>\n",
       "      <td>N</td>\n",
       "    </tr>\n",
       "  </tbody>\n",
       "</table>\n",
       "</div>"
      ],
      "text/plain": [
       "  Subject Age Group Stop Resolution Weapon Type Officer ID  Officer YOB  \\\n",
       "0                 -          Arrest        None     7500           1984   \n",
       "1                 -   Field Contact        None     5670           1965   \n",
       "2                 -   Field Contact        None     4844           1961   \n",
       "3                 -   Field Contact        None     7539           1963   \n",
       "4                 -   Field Contact        None     6973           1977   \n",
       "\n",
       "  Officer Gender               Officer Race     Subject Perceived Race  \\\n",
       "0              M  Black or African American                      Asian   \n",
       "1              M                      White                          -   \n",
       "2              M                      White                      White   \n",
       "3              M                      White                          -   \n",
       "4              M                      White  Black or African American   \n",
       "\n",
       "  Subject Perceived Gender        Reported Date Reported Time Arrest Flag  \\\n",
       "0                     Male  2015-10-16T00:00:00      11:32:00           N   \n",
       "1                        -  2015-03-19T00:00:00      07:59:00           N   \n",
       "2                     Male  2015-03-21T00:00:00      19:12:00           N   \n",
       "3                        -  2015-04-01T00:00:00      04:55:00           N   \n",
       "4                     Male  2015-04-03T00:00:00      00:41:00           N   \n",
       "\n",
       "  Frisk Flag  \n",
       "0          N  \n",
       "1          N  \n",
       "2          -  \n",
       "3          N  \n",
       "4          N  "
      ]
     },
     "execution_count": 25,
     "metadata": {},
     "output_type": "execute_result"
    }
   ],
   "source": [
    "df2 = df1.drop(['Beat', 'Sector', 'Precinct', 'Officer Squad', 'Call Type', 'Final Call Type', 'Initial Call Type',\n",
    "                'GO / SC Num', 'Subject ID', 'Terry Stop ID'], axis=1)\n",
    "df2.head()"
   ]
  },
  {
   "cell_type": "code",
   "execution_count": 26,
   "metadata": {},
   "outputs": [
    {
     "data": {
      "text/plain": [
       "N    42653\n",
       "Y     2740\n",
       "Name: Arrest Flag, dtype: int64"
      ]
     },
     "execution_count": 26,
     "metadata": {},
     "output_type": "execute_result"
    }
   ],
   "source": [
    "df2['Arrest Flag'].value_counts()"
   ]
  },
  {
   "cell_type": "code",
   "execution_count": 27,
   "metadata": {},
   "outputs": [
    {
     "data": {
      "text/plain": [
       "N    34801\n",
       "Y    10114\n",
       "-      478\n",
       "Name: Frisk Flag, dtype: int64"
      ]
     },
     "execution_count": 27,
     "metadata": {},
     "output_type": "execute_result"
    }
   ],
   "source": [
    "df2['Frisk Flag'].value_counts()"
   ]
  },
  {
   "cell_type": "markdown",
   "metadata": {},
   "source": [
    "Dropping rows with '-' as a value for 'Frisk Flag', since someone can either be frisked or not."
   ]
  },
  {
   "cell_type": "code",
   "execution_count": 28,
   "metadata": {},
   "outputs": [
    {
     "data": {
      "text/plain": [
       "N    34801\n",
       "Y    10114\n",
       "Name: Frisk Flag, dtype: int64"
      ]
     },
     "execution_count": 28,
     "metadata": {},
     "output_type": "execute_result"
    }
   ],
   "source": [
    "df2.drop(df2.loc[df2['Frisk Flag']== '-'].index, inplace=True)\n",
    "df2['Frisk Flag'].value_counts()"
   ]
  },
  {
   "cell_type": "markdown",
   "metadata": {},
   "source": [
    "For values that were '-', I am assuming that the race was unknown so I am changing these values so they can be combined with the previous 'Unknown' values."
   ]
  },
  {
   "cell_type": "code",
   "execution_count": 30,
   "metadata": {},
   "outputs": [
    {
     "data": {
      "text/plain": [
       "White                                        21966\n",
       "Black or African American                    13395\n",
       "Unknown                                       2417\n",
       "-                                             1741\n",
       "Hispanic                                      1667\n",
       "Asian                                         1442\n",
       "American Indian or Alaska Native              1298\n",
       "Multi-Racial                                   796\n",
       "Other                                          149\n",
       "Native Hawaiian or Other Pacific Islander       44\n",
       "Name: Subject Perceived Race, dtype: int64"
      ]
     },
     "execution_count": 30,
     "metadata": {},
     "output_type": "execute_result"
    }
   ],
   "source": [
    "df2['Subject Perceived Race'].value_counts()"
   ]
  },
  {
   "cell_type": "code",
   "execution_count": 31,
   "metadata": {},
   "outputs": [
    {
     "data": {
      "text/plain": [
       "White                                        21966\n",
       "Black or African American                    13395\n",
       "Unknown                                       4158\n",
       "Hispanic                                      1667\n",
       "Asian                                         1442\n",
       "American Indian or Alaska Native              1298\n",
       "Multi-Racial                                   796\n",
       "Other                                          149\n",
       "Native Hawaiian or Other Pacific Islander       44\n",
       "Name: Subject Perceived Race, dtype: int64"
      ]
     },
     "execution_count": 31,
     "metadata": {},
     "output_type": "execute_result"
    }
   ],
   "source": [
    "df2['Subject Perceived Race'].replace({'-': 'Unknown'}, inplace=True)\n",
    "df2['Subject Perceived Race'].value_counts()"
   ]
  },
  {
   "cell_type": "markdown",
   "metadata": {},
   "source": [
    "Similarly to race, I am changing '-' and 'Unable to Determine' to 'Unknown'."
   ]
  },
  {
   "cell_type": "code",
   "execution_count": 32,
   "metadata": {},
   "outputs": [
    {
     "data": {
      "text/plain": [
       "Male                                                         35180\n",
       "Female                                                        9173\n",
       "Unable to Determine                                            317\n",
       "-                                                              220\n",
       "Unknown                                                         21\n",
       "Gender Diverse (gender non-conforming and/or transgender)        4\n",
       "Name: Subject Perceived Gender, dtype: int64"
      ]
     },
     "execution_count": 32,
     "metadata": {},
     "output_type": "execute_result"
    }
   ],
   "source": [
    "df2['Subject Perceived Gender'].value_counts()"
   ]
  },
  {
   "cell_type": "code",
   "execution_count": 33,
   "metadata": {},
   "outputs": [
    {
     "data": {
      "text/plain": [
       "Male                                                         35180\n",
       "Female                                                        9173\n",
       "Unknown                                                        558\n",
       "Gender Diverse (gender non-conforming and/or transgender)        4\n",
       "Name: Subject Perceived Gender, dtype: int64"
      ]
     },
     "execution_count": 33,
     "metadata": {},
     "output_type": "execute_result"
    }
   ],
   "source": [
    "df2['Subject Perceived Gender'].replace({'-': 'Unknown', 'Unable to Determine': 'Unknown'}, inplace=True)\n",
    "df2['Subject Perceived Gender'].value_counts()"
   ]
  },
  {
   "cell_type": "markdown",
   "metadata": {},
   "source": [
    "Applying the same adjustments to the 'Officer Race' column."
   ]
  },
  {
   "cell_type": "code",
   "execution_count": 34,
   "metadata": {},
   "outputs": [
    {
     "data": {
      "text/plain": [
       "White                            34126\n",
       "Hispanic or Latino                2569\n",
       "Two or More Races                 2513\n",
       "Asian                             1883\n",
       "Black or African American         1765\n",
       "Not Specified                     1259\n",
       "Nat Hawaiian/Oth Pac Islander      433\n",
       "American Indian/Alaska Native      301\n",
       "Unknown                             66\n",
       "Name: Officer Race, dtype: int64"
      ]
     },
     "execution_count": 34,
     "metadata": {},
     "output_type": "execute_result"
    }
   ],
   "source": [
    "df2['Officer Race'].value_counts()"
   ]
  },
  {
   "cell_type": "code",
   "execution_count": 35,
   "metadata": {},
   "outputs": [
    {
     "data": {
      "text/plain": [
       "White                            34126\n",
       "Hispanic or Latino                2569\n",
       "Two or More Races                 2513\n",
       "Asian                             1883\n",
       "Black or African American         1765\n",
       "Unknown                           1325\n",
       "Nat Hawaiian/Oth Pac Islander      433\n",
       "American Indian/Alaska Native      301\n",
       "Name: Officer Race, dtype: int64"
      ]
     },
     "execution_count": 35,
     "metadata": {},
     "output_type": "execute_result"
    }
   ],
   "source": [
    "df2['Officer Race'].replace({'Not Specified': 'Unknown'}, inplace=True)\n",
    "df2['Officer Race'].value_counts()"
   ]
  },
  {
   "cell_type": "markdown",
   "metadata": {},
   "source": [
    "Because having a value of '-' may cause Syntax and TypeErrors, I changed this to be 'Unknown'"
   ]
  },
  {
   "cell_type": "code",
   "execution_count": 36,
   "metadata": {},
   "outputs": [
    {
     "data": {
      "text/plain": [
       "26 - 35         14950\n",
       "36 - 45          9506\n",
       "18 - 25          9083\n",
       "46 - 55          5807\n",
       "56 and Above     2289\n",
       "1 - 17           1910\n",
       "-                1370\n",
       "Name: Subject Age Group, dtype: int64"
      ]
     },
     "execution_count": 36,
     "metadata": {},
     "output_type": "execute_result"
    }
   ],
   "source": [
    "df2['Subject Age Group'].value_counts()"
   ]
  },
  {
   "cell_type": "code",
   "execution_count": 37,
   "metadata": {},
   "outputs": [
    {
     "data": {
      "text/plain": [
       "26 - 35         14950\n",
       "36 - 45          9506\n",
       "18 - 25          9083\n",
       "46 - 55          5807\n",
       "56 and Above     2289\n",
       "1 - 17           1910\n",
       "Unknown          1370\n",
       "Name: Subject Age Group, dtype: int64"
      ]
     },
     "execution_count": 37,
     "metadata": {},
     "output_type": "execute_result"
    }
   ],
   "source": [
    "df2['Subject Age Group'].replace({'-': 'Unknown'}, inplace=True)\n",
    "df2['Subject Age Group'].value_counts()"
   ]
  },
  {
   "cell_type": "markdown",
   "metadata": {},
   "source": [
    "Because Officer's year of birth were all over the place, and had some outliers, I manually binned these to 10 year periods."
   ]
  },
  {
   "cell_type": "code",
   "execution_count": 38,
   "metadata": {},
   "outputs": [
    {
     "data": {
      "text/plain": [
       "1986    3174\n",
       "1987    2882\n",
       "1984    2668\n",
       "1991    2622\n",
       "1985    2413\n",
       "1992    2286\n",
       "1990    2145\n",
       "1988    1995\n",
       "1989    1925\n",
       "1982    1809\n",
       "1983    1663\n",
       "1979    1444\n",
       "1981    1356\n",
       "1993    1352\n",
       "1971    1198\n",
       "1978    1095\n",
       "1976     986\n",
       "1995     985\n",
       "1977     926\n",
       "1973     896\n",
       "1994     818\n",
       "1980     785\n",
       "1967     697\n",
       "1968     619\n",
       "1970     579\n",
       "1974     540\n",
       "1996     540\n",
       "1969     523\n",
       "1975     515\n",
       "1962     444\n",
       "1972     417\n",
       "1965     414\n",
       "1964     402\n",
       "1997     345\n",
       "1963     250\n",
       "1958     216\n",
       "1961     208\n",
       "1966     203\n",
       "1959     172\n",
       "1960     159\n",
       "1900      66\n",
       "1954      44\n",
       "1957      42\n",
       "1953      30\n",
       "1955      20\n",
       "1956      17\n",
       "1948      11\n",
       "1952       9\n",
       "1949       5\n",
       "1998       2\n",
       "1946       2\n",
       "1951       1\n",
       "Name: Officer YOB, dtype: int64"
      ]
     },
     "execution_count": 38,
     "metadata": {},
     "output_type": "execute_result"
    }
   ],
   "source": [
    "df2['Officer YOB'].value_counts()"
   ]
  },
  {
   "cell_type": "code",
   "execution_count": 41,
   "metadata": {},
   "outputs": [
    {
     "data": {
      "text/plain": [
       "1990s    11095\n",
       "1986      3174\n",
       "1987      2882\n",
       "1984      2668\n",
       "1985      2413\n",
       "1988      1995\n",
       "1989      1925\n",
       "1982      1809\n",
       "1983      1663\n",
       "1979      1444\n",
       "1981      1356\n",
       "1971      1198\n",
       "1978      1095\n",
       "1976       986\n",
       "1977       926\n",
       "1973       896\n",
       "1980       785\n",
       "1967       697\n",
       "1968       619\n",
       "1970       579\n",
       "1974       540\n",
       "1969       523\n",
       "1975       515\n",
       "1962       444\n",
       "1972       417\n",
       "1965       414\n",
       "1964       402\n",
       "1963       250\n",
       "1958       216\n",
       "1961       208\n",
       "1966       203\n",
       "1959       172\n",
       "1960       159\n",
       "1900        66\n",
       "1954        44\n",
       "1957        42\n",
       "1953        30\n",
       "1955        20\n",
       "1956        17\n",
       "1948        11\n",
       "1952         9\n",
       "1949         5\n",
       "1946         2\n",
       "1951         1\n",
       "Name: Officer YOB, dtype: int64"
      ]
     },
     "execution_count": 41,
     "metadata": {},
     "output_type": "execute_result"
    }
   ],
   "source": [
    "df2['Officer YOB'].replace({1990: '1990s', 1991: '1990s', 1992: '1990s', 1993: '1990s', 1994: '1990s',\n",
    "                            1995: '1990s', 1996: '1990s', 1997: '1990s', 1998: '1990s', 1999: '1990s'}, inplace=True)\n",
    "df2['Officer YOB'].value_counts()"
   ]
  },
  {
   "cell_type": "code",
   "execution_count": 42,
   "metadata": {},
   "outputs": [
    {
     "data": {
      "text/plain": [
       "1980s    20670\n",
       "1990s    11095\n",
       "1979      1444\n",
       "1971      1198\n",
       "1978      1095\n",
       "1976       986\n",
       "1977       926\n",
       "1973       896\n",
       "1967       697\n",
       "1968       619\n",
       "1970       579\n",
       "1974       540\n",
       "1969       523\n",
       "1975       515\n",
       "1962       444\n",
       "1972       417\n",
       "1965       414\n",
       "1964       402\n",
       "1963       250\n",
       "1958       216\n",
       "1961       208\n",
       "1966       203\n",
       "1959       172\n",
       "1960       159\n",
       "1900        66\n",
       "1954        44\n",
       "1957        42\n",
       "1953        30\n",
       "1955        20\n",
       "1956        17\n",
       "1948        11\n",
       "1952         9\n",
       "1949         5\n",
       "1946         2\n",
       "1951         1\n",
       "Name: Officer YOB, dtype: int64"
      ]
     },
     "execution_count": 42,
     "metadata": {},
     "output_type": "execute_result"
    }
   ],
   "source": [
    "df2['Officer YOB'].replace({1980: '1980s', 1981: '1980s', 1982: '1980s', 1983: '1980s', 1984: '1980s',\n",
    "                            1985: '1980s', 1986: '1980s', 1987: '1980s', 1988: '1980s', 1989: '1980s'}, inplace=True)\n",
    "df2['Officer YOB'].value_counts()"
   ]
  },
  {
   "cell_type": "code",
   "execution_count": 43,
   "metadata": {},
   "outputs": [
    {
     "data": {
      "text/plain": [
       "1980s    20670\n",
       "1990s    11095\n",
       "1970s     8596\n",
       "1967       697\n",
       "1968       619\n",
       "1969       523\n",
       "1962       444\n",
       "1965       414\n",
       "1964       402\n",
       "1963       250\n",
       "1958       216\n",
       "1961       208\n",
       "1966       203\n",
       "1959       172\n",
       "1960       159\n",
       "1900        66\n",
       "1954        44\n",
       "1957        42\n",
       "1953        30\n",
       "1955        20\n",
       "1956        17\n",
       "1948        11\n",
       "1952         9\n",
       "1949         5\n",
       "1946         2\n",
       "1951         1\n",
       "Name: Officer YOB, dtype: int64"
      ]
     },
     "execution_count": 43,
     "metadata": {},
     "output_type": "execute_result"
    }
   ],
   "source": [
    "df2['Officer YOB'].replace({1970: '1970s', 1971: '1970s', 1972: '1970s', 1973: '1970s', 1974: '1970s',\n",
    "                            1975: '1970s', 1976: '1970s', 1977: '1970s', 1978: '1970s', 1979: '1970s'}, inplace=True)\n",
    "df2['Officer YOB'].value_counts()"
   ]
  },
  {
   "cell_type": "code",
   "execution_count": 44,
   "metadata": {},
   "outputs": [
    {
     "data": {
      "text/plain": [
       "1980s    20670\n",
       "1990s    11095\n",
       "1970s     8596\n",
       "1960s     3919\n",
       "1958       216\n",
       "1959       172\n",
       "1900        66\n",
       "1954        44\n",
       "1957        42\n",
       "1953        30\n",
       "1955        20\n",
       "1956        17\n",
       "1948        11\n",
       "1952         9\n",
       "1949         5\n",
       "1946         2\n",
       "1951         1\n",
       "Name: Officer YOB, dtype: int64"
      ]
     },
     "execution_count": 44,
     "metadata": {},
     "output_type": "execute_result"
    }
   ],
   "source": [
    "df2['Officer YOB'].replace({1960: '1960s', 1961: '1960s', 1962: '1960s', 1963: '1960s', 1964: '1960s',\n",
    "                            1965: '1960s', 1966: '1960s', 1967: '1960s', 1968: '1960s', 1969: '1960s'}, inplace=True)\n",
    "df2['Officer YOB'].value_counts()"
   ]
  },
  {
   "cell_type": "code",
   "execution_count": 45,
   "metadata": {},
   "outputs": [
    {
     "data": {
      "text/plain": [
       "1980s    20670\n",
       "1990s    11095\n",
       "1970s     8596\n",
       "1960s     3919\n",
       "1950s      551\n",
       "1900        66\n",
       "1948        11\n",
       "1949         5\n",
       "1946         2\n",
       "Name: Officer YOB, dtype: int64"
      ]
     },
     "execution_count": 45,
     "metadata": {},
     "output_type": "execute_result"
    }
   ],
   "source": [
    "df2['Officer YOB'].replace({1950: '1950s', 1951: '1950s', 1952: '1950s', 1953: '1950s', 1954: '1950s',\n",
    "                            1955: '1950s', 1956: '1950s', 1957: '1950s', 1958: '1950s', 1959: '1950s'}, inplace=True)\n",
    "df2['Officer YOB'].value_counts()"
   ]
  },
  {
   "cell_type": "code",
   "execution_count": 46,
   "metadata": {},
   "outputs": [
    {
     "data": {
      "text/plain": [
       "1980s    20670\n",
       "1990s    11095\n",
       "1970s     8596\n",
       "1960s     3919\n",
       "1950s      551\n",
       "1900        66\n",
       "1940s       18\n",
       "Name: Officer YOB, dtype: int64"
      ]
     },
     "execution_count": 46,
     "metadata": {},
     "output_type": "execute_result"
    }
   ],
   "source": [
    "df2['Officer YOB'].replace({1940: '1940s', 1941: '1940s', 1942: '1940s', 1943: '1940s', 1944: '1940s',\n",
    "                            1945: '1940s', 1946: '1940s', 1947: '1940s', 1948: '1940s', 1949: '1940s'}, inplace=True)\n",
    "df2['Officer YOB'].value_counts()"
   ]
  },
  {
   "cell_type": "code",
   "execution_count": 47,
   "metadata": {},
   "outputs": [
    {
     "data": {
      "text/plain": [
       "1980s    20670\n",
       "1990s    11095\n",
       "1970s     8596\n",
       "1960s     3919\n",
       "1950s      551\n",
       "1940s       18\n",
       "Name: Officer YOB, dtype: int64"
      ]
     },
     "execution_count": 47,
     "metadata": {},
     "output_type": "execute_result"
    }
   ],
   "source": [
    "df2.drop(df2.loc[df2['Officer YOB']== 1900].index, inplace=True)\n",
    "df2['Officer YOB'].value_counts()"
   ]
  },
  {
   "cell_type": "markdown",
   "metadata": {},
   "source": [
    "The final, cleaned up dataframe for the preliminary models."
   ]
  },
  {
   "cell_type": "code",
   "execution_count": 48,
   "metadata": {},
   "outputs": [
    {
     "data": {
      "text/html": [
       "<div>\n",
       "<style scoped>\n",
       "    .dataframe tbody tr th:only-of-type {\n",
       "        vertical-align: middle;\n",
       "    }\n",
       "\n",
       "    .dataframe tbody tr th {\n",
       "        vertical-align: top;\n",
       "    }\n",
       "\n",
       "    .dataframe thead th {\n",
       "        text-align: right;\n",
       "    }\n",
       "</style>\n",
       "<table border=\"1\" class=\"dataframe\">\n",
       "  <thead>\n",
       "    <tr style=\"text-align: right;\">\n",
       "      <th></th>\n",
       "      <th>Subject Age Group</th>\n",
       "      <th>Stop Resolution</th>\n",
       "      <th>Weapon Type</th>\n",
       "      <th>Officer ID</th>\n",
       "      <th>Officer YOB</th>\n",
       "      <th>Officer Gender</th>\n",
       "      <th>Officer Race</th>\n",
       "      <th>Subject Perceived Race</th>\n",
       "      <th>Subject Perceived Gender</th>\n",
       "      <th>Reported Date</th>\n",
       "      <th>Reported Time</th>\n",
       "      <th>Arrest Flag</th>\n",
       "      <th>Frisk Flag</th>\n",
       "    </tr>\n",
       "  </thead>\n",
       "  <tbody>\n",
       "    <tr>\n",
       "      <th>0</th>\n",
       "      <td>Unknown</td>\n",
       "      <td>Arrest</td>\n",
       "      <td>None</td>\n",
       "      <td>7500</td>\n",
       "      <td>1980s</td>\n",
       "      <td>M</td>\n",
       "      <td>Black or African American</td>\n",
       "      <td>Asian</td>\n",
       "      <td>Male</td>\n",
       "      <td>2015-10-16T00:00:00</td>\n",
       "      <td>11:32:00</td>\n",
       "      <td>N</td>\n",
       "      <td>N</td>\n",
       "    </tr>\n",
       "    <tr>\n",
       "      <th>1</th>\n",
       "      <td>Unknown</td>\n",
       "      <td>Field Contact</td>\n",
       "      <td>None</td>\n",
       "      <td>5670</td>\n",
       "      <td>1960s</td>\n",
       "      <td>M</td>\n",
       "      <td>White</td>\n",
       "      <td>Unknown</td>\n",
       "      <td>Unknown</td>\n",
       "      <td>2015-03-19T00:00:00</td>\n",
       "      <td>07:59:00</td>\n",
       "      <td>N</td>\n",
       "      <td>N</td>\n",
       "    </tr>\n",
       "    <tr>\n",
       "      <th>3</th>\n",
       "      <td>Unknown</td>\n",
       "      <td>Field Contact</td>\n",
       "      <td>None</td>\n",
       "      <td>7539</td>\n",
       "      <td>1960s</td>\n",
       "      <td>M</td>\n",
       "      <td>White</td>\n",
       "      <td>Unknown</td>\n",
       "      <td>Unknown</td>\n",
       "      <td>2015-04-01T00:00:00</td>\n",
       "      <td>04:55:00</td>\n",
       "      <td>N</td>\n",
       "      <td>N</td>\n",
       "    </tr>\n",
       "    <tr>\n",
       "      <th>4</th>\n",
       "      <td>Unknown</td>\n",
       "      <td>Field Contact</td>\n",
       "      <td>None</td>\n",
       "      <td>6973</td>\n",
       "      <td>1970s</td>\n",
       "      <td>M</td>\n",
       "      <td>White</td>\n",
       "      <td>Black or African American</td>\n",
       "      <td>Male</td>\n",
       "      <td>2015-04-03T00:00:00</td>\n",
       "      <td>00:41:00</td>\n",
       "      <td>N</td>\n",
       "      <td>N</td>\n",
       "    </tr>\n",
       "    <tr>\n",
       "      <th>5</th>\n",
       "      <td>Unknown</td>\n",
       "      <td>Field Contact</td>\n",
       "      <td>None</td>\n",
       "      <td>7402</td>\n",
       "      <td>1970s</td>\n",
       "      <td>M</td>\n",
       "      <td>White</td>\n",
       "      <td>Black or African American</td>\n",
       "      <td>Male</td>\n",
       "      <td>2015-04-05T00:00:00</td>\n",
       "      <td>23:46:00</td>\n",
       "      <td>N</td>\n",
       "      <td>N</td>\n",
       "    </tr>\n",
       "    <tr>\n",
       "      <th>...</th>\n",
       "      <td>...</td>\n",
       "      <td>...</td>\n",
       "      <td>...</td>\n",
       "      <td>...</td>\n",
       "      <td>...</td>\n",
       "      <td>...</td>\n",
       "      <td>...</td>\n",
       "      <td>...</td>\n",
       "      <td>...</td>\n",
       "      <td>...</td>\n",
       "      <td>...</td>\n",
       "      <td>...</td>\n",
       "      <td>...</td>\n",
       "    </tr>\n",
       "    <tr>\n",
       "      <th>45388</th>\n",
       "      <td>56 and Above</td>\n",
       "      <td>Field Contact</td>\n",
       "      <td>-</td>\n",
       "      <td>8668</td>\n",
       "      <td>1990s</td>\n",
       "      <td>F</td>\n",
       "      <td>White</td>\n",
       "      <td>White</td>\n",
       "      <td>Male</td>\n",
       "      <td>2020-11-24T00:00:00</td>\n",
       "      <td>16:38:00</td>\n",
       "      <td>N</td>\n",
       "      <td>N</td>\n",
       "    </tr>\n",
       "    <tr>\n",
       "      <th>45389</th>\n",
       "      <td>56 and Above</td>\n",
       "      <td>Field Contact</td>\n",
       "      <td>-</td>\n",
       "      <td>8747</td>\n",
       "      <td>1990s</td>\n",
       "      <td>M</td>\n",
       "      <td>White</td>\n",
       "      <td>Unknown</td>\n",
       "      <td>Male</td>\n",
       "      <td>2020-11-25T00:00:00</td>\n",
       "      <td>11:16:36</td>\n",
       "      <td>N</td>\n",
       "      <td>N</td>\n",
       "    </tr>\n",
       "    <tr>\n",
       "      <th>45390</th>\n",
       "      <td>56 and Above</td>\n",
       "      <td>Field Contact</td>\n",
       "      <td>-</td>\n",
       "      <td>7456</td>\n",
       "      <td>1970s</td>\n",
       "      <td>M</td>\n",
       "      <td>White</td>\n",
       "      <td>White</td>\n",
       "      <td>Male</td>\n",
       "      <td>2020-12-03T00:00:00</td>\n",
       "      <td>18:25:31</td>\n",
       "      <td>N</td>\n",
       "      <td>N</td>\n",
       "    </tr>\n",
       "    <tr>\n",
       "      <th>45391</th>\n",
       "      <td>56 and Above</td>\n",
       "      <td>Field Contact</td>\n",
       "      <td>Knife/Cutting/Stabbing Instrument</td>\n",
       "      <td>8646</td>\n",
       "      <td>1990s</td>\n",
       "      <td>M</td>\n",
       "      <td>White</td>\n",
       "      <td>Black or African American</td>\n",
       "      <td>Male</td>\n",
       "      <td>2020-12-15T00:00:00</td>\n",
       "      <td>23:02:58</td>\n",
       "      <td>N</td>\n",
       "      <td>Y</td>\n",
       "    </tr>\n",
       "    <tr>\n",
       "      <th>45392</th>\n",
       "      <td>56 and Above</td>\n",
       "      <td>Field Contact</td>\n",
       "      <td>-</td>\n",
       "      <td>7932</td>\n",
       "      <td>1990s</td>\n",
       "      <td>M</td>\n",
       "      <td>White</td>\n",
       "      <td>Asian</td>\n",
       "      <td>Male</td>\n",
       "      <td>2020-12-21T00:00:00</td>\n",
       "      <td>14:08:15</td>\n",
       "      <td>N</td>\n",
       "      <td>Y</td>\n",
       "    </tr>\n",
       "  </tbody>\n",
       "</table>\n",
       "<p>44849 rows × 13 columns</p>\n",
       "</div>"
      ],
      "text/plain": [
       "      Subject Age Group Stop Resolution                        Weapon Type  \\\n",
       "0               Unknown          Arrest                               None   \n",
       "1               Unknown   Field Contact                               None   \n",
       "3               Unknown   Field Contact                               None   \n",
       "4               Unknown   Field Contact                               None   \n",
       "5               Unknown   Field Contact                               None   \n",
       "...                 ...             ...                                ...   \n",
       "45388      56 and Above   Field Contact                                  -   \n",
       "45389      56 and Above   Field Contact                                  -   \n",
       "45390      56 and Above   Field Contact                                  -   \n",
       "45391      56 and Above   Field Contact  Knife/Cutting/Stabbing Instrument   \n",
       "45392      56 and Above   Field Contact                                  -   \n",
       "\n",
       "      Officer ID Officer YOB Officer Gender               Officer Race  \\\n",
       "0         7500         1980s              M  Black or African American   \n",
       "1         5670         1960s              M                      White   \n",
       "3         7539         1960s              M                      White   \n",
       "4         6973         1970s              M                      White   \n",
       "5         7402         1970s              M                      White   \n",
       "...          ...         ...            ...                        ...   \n",
       "45388     8668         1990s              F                      White   \n",
       "45389     8747         1990s              M                      White   \n",
       "45390     7456         1970s              M                      White   \n",
       "45391     8646         1990s              M                      White   \n",
       "45392     7932         1990s              M                      White   \n",
       "\n",
       "          Subject Perceived Race Subject Perceived Gender  \\\n",
       "0                          Asian                     Male   \n",
       "1                        Unknown                  Unknown   \n",
       "3                        Unknown                  Unknown   \n",
       "4      Black or African American                     Male   \n",
       "5      Black or African American                     Male   \n",
       "...                          ...                      ...   \n",
       "45388                      White                     Male   \n",
       "45389                    Unknown                     Male   \n",
       "45390                      White                     Male   \n",
       "45391  Black or African American                     Male   \n",
       "45392                      Asian                     Male   \n",
       "\n",
       "             Reported Date Reported Time Arrest Flag Frisk Flag  \n",
       "0      2015-10-16T00:00:00      11:32:00           N          N  \n",
       "1      2015-03-19T00:00:00      07:59:00           N          N  \n",
       "3      2015-04-01T00:00:00      04:55:00           N          N  \n",
       "4      2015-04-03T00:00:00      00:41:00           N          N  \n",
       "5      2015-04-05T00:00:00      23:46:00           N          N  \n",
       "...                    ...           ...         ...        ...  \n",
       "45388  2020-11-24T00:00:00      16:38:00           N          N  \n",
       "45389  2020-11-25T00:00:00      11:16:36           N          N  \n",
       "45390  2020-12-03T00:00:00      18:25:31           N          N  \n",
       "45391  2020-12-15T00:00:00      23:02:58           N          Y  \n",
       "45392  2020-12-21T00:00:00      14:08:15           N          Y  \n",
       "\n",
       "[44849 rows x 13 columns]"
      ]
     },
     "execution_count": 48,
     "metadata": {},
     "output_type": "execute_result"
    }
   ],
   "source": [
    "df2"
   ]
  },
  {
   "cell_type": "code",
   "execution_count": 49,
   "metadata": {},
   "outputs": [
    {
     "data": {
      "text/plain": [
       "N    42114\n",
       "Y     2735\n",
       "Name: Arrest Flag, dtype: int64"
      ]
     },
     "execution_count": 49,
     "metadata": {},
     "output_type": "execute_result"
    }
   ],
   "source": [
    "df2['Arrest Flag'].value_counts()"
   ]
  },
  {
   "cell_type": "code",
   "execution_count": 50,
   "metadata": {},
   "outputs": [
    {
     "data": {
      "text/plain": [
       "N    34745\n",
       "Y    10104\n",
       "Name: Frisk Flag, dtype: int64"
      ]
     },
     "execution_count": 50,
     "metadata": {},
     "output_type": "execute_result"
    }
   ],
   "source": [
    "df2['Frisk Flag'].value_counts()"
   ]
  },
  {
   "cell_type": "code",
   "execution_count": 66,
   "metadata": {},
   "outputs": [
    {
     "data": {
      "image/png": "[encoded data removed]",
      "text/plain": [
       "<Figure size 432x288 with 1 Axes>"
      ]
     },
     "metadata": {
      "needs_background": "light"
     },
     "output_type": "display_data"
    }
   ],
   "source": [
    "Arrest = [42114, 2735]\n",
    "Frisk = [34745, 10104]\n",
    "index = ['No', 'Yes']\n",
    "df3 = pd.DataFrame({'Arrest Flag': Arrest,\n",
    "                   'Frisk Flag': Frisk}, index=index)\n",
    "ax3 = df3.plot.bar(stacked=True)\n"
   ]
  },
  {
   "cell_type": "code",
   "execution_count": null,
   "metadata": {},
   "outputs": [],
   "source": [
    "df2.to_csv(r'C:\\Users\\melfr\\Documents\\Flatiron\\p3\\phase_project\\terry_analysis\\FriskAnalysis\\EDA_df.csv')"
   ]
  }
 ],
 "metadata": {
  "kernelspec": {
   "display_name": "Python 3",
   "language": "python",
   "name": "python3"
  },
  "language_info": {
   "codemirror_mode": {
    "name": "ipython",
    "version": 3
   },
   "file_extension": ".py",
   "mimetype": "text/x-python",
   "name": "python",
   "nbconvert_exporter": "python",
   "pygments_lexer": "ipython3",
   "version": "3.6.9"
  }
 },
 "nbformat": 4,
 "nbformat_minor": 4
}
