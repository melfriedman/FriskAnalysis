{
 "cells": [
  {
   "cell_type": "markdown",
   "metadata": {},
   "source": [
    "After creating two preliminary models for Logistic Regression and Decision Trees, its time to fine tune them and make sure they are running how they should. Just like before I am importing the dataframe used for those models, setting my target and predictor, one-hot-encoding, and making my train-test-split."
   ]
  },
  {
   "cell_type": "code",
   "execution_count": 219,
   "metadata": {},
   "outputs": [],
   "source": [
    "import pandas as pd\n",
    "pd.pandas.set_option('display.max_columns', None)\n",
    "import numpy as np\n",
    "import statsmodels.api as sm\n",
    "import matplotlib.pyplot as plt\n",
    "from scipy import stats\n",
    "from sklearn.model_selection import train_test_split\n",
    "from sklearn.preprocessing import StandardScaler, OneHotEncoder\n",
    "from sklearn.linear_model import LogisticRegression\n",
    "from sklearn.tree import DecisionTreeClassifier \n",
    "from sklearn import tree\n",
    "from sklearn.ensemble import BaggingClassifier, RandomForestClassifier\n",
    "from xgboost import XGBClassifier\n",
    "from sklearn.model_selection import GridSearchCV\n",
    "from sklearn.metrics import roc_curve, auc, confusion_matrix, plot_confusion_matrix, precision_score, recall_score, accuracy_score, f1_score, classification_report\n",
    "import warnings\n",
    "warnings.filterwarnings('ignore')"
   ]
  },
  {
   "cell_type": "code",
   "execution_count": 3,
   "metadata": {},
   "outputs": [
    {
     "data": {
      "text/html": [
       "<div>\n",
       "<style scoped>\n",
       "    .dataframe tbody tr th:only-of-type {\n",
       "        vertical-align: middle;\n",
       "    }\n",
       "\n",
       "    .dataframe tbody tr th {\n",
       "        vertical-align: top;\n",
       "    }\n",
       "\n",
       "    .dataframe thead th {\n",
       "        text-align: right;\n",
       "    }\n",
       "</style>\n",
       "<table border=\"1\" class=\"dataframe\">\n",
       "  <thead>\n",
       "    <tr style=\"text-align: right;\">\n",
       "      <th></th>\n",
       "      <th>Unnamed: 0</th>\n",
       "      <th>Subject Age Group</th>\n",
       "      <th>Stop Resolution</th>\n",
       "      <th>Weapon Type</th>\n",
       "      <th>Officer ID</th>\n",
       "      <th>Officer YOB</th>\n",
       "      <th>Officer Gender</th>\n",
       "      <th>Officer Race</th>\n",
       "      <th>Subject Perceived Race</th>\n",
       "      <th>Subject Perceived Gender</th>\n",
       "      <th>Reported Date</th>\n",
       "      <th>Reported Time</th>\n",
       "      <th>Arrest Flag</th>\n",
       "      <th>Frisk Flag</th>\n",
       "    </tr>\n",
       "  </thead>\n",
       "  <tbody>\n",
       "    <tr>\n",
       "      <th>0</th>\n",
       "      <td>0</td>\n",
       "      <td>Unknown</td>\n",
       "      <td>Arrest</td>\n",
       "      <td>None</td>\n",
       "      <td>7500</td>\n",
       "      <td>1980s</td>\n",
       "      <td>M</td>\n",
       "      <td>Black or African American</td>\n",
       "      <td>Asian</td>\n",
       "      <td>Male</td>\n",
       "      <td>2015-10-16T00:00:00</td>\n",
       "      <td>11:32:00</td>\n",
       "      <td>N</td>\n",
       "      <td>N</td>\n",
       "    </tr>\n",
       "    <tr>\n",
       "      <th>1</th>\n",
       "      <td>1</td>\n",
       "      <td>Unknown</td>\n",
       "      <td>Field Contact</td>\n",
       "      <td>None</td>\n",
       "      <td>5670</td>\n",
       "      <td>1960s</td>\n",
       "      <td>M</td>\n",
       "      <td>White</td>\n",
       "      <td>Unknown</td>\n",
       "      <td>Unknown</td>\n",
       "      <td>2015-03-19T00:00:00</td>\n",
       "      <td>07:59:00</td>\n",
       "      <td>N</td>\n",
       "      <td>N</td>\n",
       "    </tr>\n",
       "    <tr>\n",
       "      <th>2</th>\n",
       "      <td>3</td>\n",
       "      <td>Unknown</td>\n",
       "      <td>Field Contact</td>\n",
       "      <td>None</td>\n",
       "      <td>7539</td>\n",
       "      <td>1960s</td>\n",
       "      <td>M</td>\n",
       "      <td>White</td>\n",
       "      <td>Unknown</td>\n",
       "      <td>Unknown</td>\n",
       "      <td>2015-04-01T00:00:00</td>\n",
       "      <td>04:55:00</td>\n",
       "      <td>N</td>\n",
       "      <td>N</td>\n",
       "    </tr>\n",
       "    <tr>\n",
       "      <th>3</th>\n",
       "      <td>4</td>\n",
       "      <td>Unknown</td>\n",
       "      <td>Field Contact</td>\n",
       "      <td>None</td>\n",
       "      <td>6973</td>\n",
       "      <td>1970s</td>\n",
       "      <td>M</td>\n",
       "      <td>White</td>\n",
       "      <td>Black or African American</td>\n",
       "      <td>Male</td>\n",
       "      <td>2015-04-03T00:00:00</td>\n",
       "      <td>00:41:00</td>\n",
       "      <td>N</td>\n",
       "      <td>N</td>\n",
       "    </tr>\n",
       "    <tr>\n",
       "      <th>4</th>\n",
       "      <td>5</td>\n",
       "      <td>Unknown</td>\n",
       "      <td>Field Contact</td>\n",
       "      <td>None</td>\n",
       "      <td>7402</td>\n",
       "      <td>1970s</td>\n",
       "      <td>M</td>\n",
       "      <td>White</td>\n",
       "      <td>Black or African American</td>\n",
       "      <td>Male</td>\n",
       "      <td>2015-04-05T00:00:00</td>\n",
       "      <td>23:46:00</td>\n",
       "      <td>N</td>\n",
       "      <td>N</td>\n",
       "    </tr>\n",
       "  </tbody>\n",
       "</table>\n",
       "</div>"
      ],
      "text/plain": [
       "   Unnamed: 0 Subject Age Group Stop Resolution Weapon Type  Officer ID  \\\n",
       "0           0           Unknown          Arrest        None        7500   \n",
       "1           1           Unknown   Field Contact        None        5670   \n",
       "2           3           Unknown   Field Contact        None        7539   \n",
       "3           4           Unknown   Field Contact        None        6973   \n",
       "4           5           Unknown   Field Contact        None        7402   \n",
       "\n",
       "  Officer YOB Officer Gender               Officer Race  \\\n",
       "0       1980s              M  Black or African American   \n",
       "1       1960s              M                      White   \n",
       "2       1960s              M                      White   \n",
       "3       1970s              M                      White   \n",
       "4       1970s              M                      White   \n",
       "\n",
       "      Subject Perceived Race Subject Perceived Gender        Reported Date  \\\n",
       "0                      Asian                     Male  2015-10-16T00:00:00   \n",
       "1                    Unknown                  Unknown  2015-03-19T00:00:00   \n",
       "2                    Unknown                  Unknown  2015-04-01T00:00:00   \n",
       "3  Black or African American                     Male  2015-04-03T00:00:00   \n",
       "4  Black or African American                     Male  2015-04-05T00:00:00   \n",
       "\n",
       "  Reported Time Arrest Flag Frisk Flag  \n",
       "0      11:32:00           N          N  \n",
       "1      07:59:00           N          N  \n",
       "2      04:55:00           N          N  \n",
       "3      00:41:00           N          N  \n",
       "4      23:46:00           N          N  "
      ]
     },
     "execution_count": 3,
     "metadata": {},
     "output_type": "execute_result"
    }
   ],
   "source": [
    "df1 = pd.read_csv('EDA_df.csv')\n",
    "df1.head()"
   ]
  },
  {
   "cell_type": "code",
   "execution_count": 4,
   "metadata": {},
   "outputs": [],
   "source": [
    "target = df1['Arrest Flag']\n",
    "predictors = df1.drop(columns = ['Arrest Flag'], axis = 1)"
   ]
  },
  {
   "cell_type": "code",
   "execution_count": 5,
   "metadata": {},
   "outputs": [],
   "source": [
    "dummy_predictors = pd.get_dummies(predictors, drop_first=False)"
   ]
  },
  {
   "cell_type": "code",
   "execution_count": 6,
   "metadata": {},
   "outputs": [],
   "source": [
    "X_train, X_test, y_train, y_test = train_test_split(dummy_predictors, target, random_state=11)"
   ]
  },
  {
   "cell_type": "markdown",
   "metadata": {},
   "source": [
    "With the same Decision Tree Classifier, the feature importance are being calculated."
   ]
  },
  {
   "cell_type": "code",
   "execution_count": 7,
   "metadata": {},
   "outputs": [
    {
     "data": {
      "text/plain": [
       "DecisionTreeClassifier(random_state=11)"
      ]
     },
     "execution_count": 7,
     "metadata": {},
     "output_type": "execute_result"
    }
   ],
   "source": [
    "TreeClassifier = DecisionTreeClassifier(random_state=11)  \n",
    "TreeClassifier.fit(X_train, y_train)"
   ]
  },
  {
   "cell_type": "code",
   "execution_count": 103,
   "metadata": {},
   "outputs": [
    {
     "data": {
      "text/plain": [
       "array([0.00395128, 0.00304149, 0.        , ..., 0.        , 0.        ,\n",
       "       0.        ])"
      ]
     },
     "execution_count": 103,
     "metadata": {},
     "output_type": "execute_result"
    }
   ],
   "source": [
    "TreeClassifier.feature_importances_"
   ]
  },
  {
   "cell_type": "markdown",
   "metadata": {},
   "source": [
    "Using a function to make calculations and plot the top important features.\n",
    "\n",
    "This function takes in the model/classifier as well as the dataframe for the predictors/x/x_train. \n",
    "Next it creates a list (of tuples) and assigns it to the Top10 variable. This is done by calculating the feature importances of the model that was imput and zip those values with the corresponding column names for the dataframe used. \n",
    "This creates the tuples and next these are turned into a list of tuples. \n",
    "Finally these are sorted in reverse order since the default is to go in ascending order, since values with the highest score is what we are interested in. \n",
    "Finally this is indexed to the top 10 values, mostly for computer performance issues."
   ]
  },
  {
   "cell_type": "code",
   "execution_count": 165,
   "metadata": {
    "scrolled": true
   },
   "outputs": [
    {
     "data": {
      "image/png": "[encoded data removed]",
      "text/plain": [
       "<Figure size 720x720 with 1 Axes>"
      ]
     },
     "metadata": {
      "needs_background": "light"
     },
     "output_type": "display_data"
    }
   ],
   "source": [
    "def plot_feature_importances(model, X_DF):\n",
    "    Top10 = sorted(list(zip(model.feature_importances_, X_DF.columns.values)), reverse = True)[:10]\n",
    "    importance = [i[0] for i in Top10]\n",
    "    column = [i[1] for i in Top10]\n",
    "    \n",
    "    n_features = len(Top10)\n",
    "    plt.figure(figsize=(10,10))\n",
    "    plt.barh(range(n_features), importance, align='center') \n",
    "    plt.yticks(np.arange(n_features), column) \n",
    "    plt.xlabel('Feature importance')\n",
    "    plt.ylabel('Feature')\n",
    "\n",
    "plot_feature_importances(TreeClassifier, X_train)"
   ]
  },
  {
   "cell_type": "markdown",
   "metadata": {},
   "source": [
    "After running this visualization to see what affects the model the most, I realize that I did not do a good enough job during EDA and data cleaning. The column 'Stop Resolution_Arrest' will obviously be highly correlated with the target column since the target is whether or not someone was arrested. It will be important to drop this column to evaluate the models performance without it. 'Unnamed:' 0 was also from an index and should be removed as well since the values in that coulmn have no significance since they are just the line number from the original csv. Also while expanding the sample size to 20, some time slots appeared to have more significance. Since these have not been binned into time groups, it seems suspicious that a certain time within the day would be so important that the only thing that I could think of was that possibly a group of suspects were all arrested at that time. For now, all time columns will be deleted as well and will possibly be added back in for evaluation after splitting them to groupings similar to the officer age (sometime in the future)."
   ]
  },
  {
   "cell_type": "code",
   "execution_count": 163,
   "metadata": {},
   "outputs": [
    {
     "data": {
      "text/html": [
       "<div>\n",
       "<style scoped>\n",
       "    .dataframe tbody tr th:only-of-type {\n",
       "        vertical-align: middle;\n",
       "    }\n",
       "\n",
       "    .dataframe tbody tr th {\n",
       "        vertical-align: top;\n",
       "    }\n",
       "\n",
       "    .dataframe thead th {\n",
       "        text-align: right;\n",
       "    }\n",
       "</style>\n",
       "<table border=\"1\" class=\"dataframe\">\n",
       "  <thead>\n",
       "    <tr style=\"text-align: right;\">\n",
       "      <th></th>\n",
       "      <th>Subject Age Group</th>\n",
       "      <th>Weapon Type</th>\n",
       "      <th>Officer ID</th>\n",
       "      <th>Officer YOB</th>\n",
       "      <th>Officer Gender</th>\n",
       "      <th>Officer Race</th>\n",
       "      <th>Subject Perceived Race</th>\n",
       "      <th>Subject Perceived Gender</th>\n",
       "      <th>Reported Date</th>\n",
       "      <th>Arrest Flag</th>\n",
       "      <th>Frisk Flag</th>\n",
       "    </tr>\n",
       "  </thead>\n",
       "  <tbody>\n",
       "    <tr>\n",
       "      <th>0</th>\n",
       "      <td>Unknown</td>\n",
       "      <td>None</td>\n",
       "      <td>7500</td>\n",
       "      <td>1980s</td>\n",
       "      <td>M</td>\n",
       "      <td>Black or African American</td>\n",
       "      <td>Asian</td>\n",
       "      <td>Male</td>\n",
       "      <td>2015-10-16T00:00:00</td>\n",
       "      <td>N</td>\n",
       "      <td>N</td>\n",
       "    </tr>\n",
       "    <tr>\n",
       "      <th>1</th>\n",
       "      <td>Unknown</td>\n",
       "      <td>None</td>\n",
       "      <td>5670</td>\n",
       "      <td>1960s</td>\n",
       "      <td>M</td>\n",
       "      <td>White</td>\n",
       "      <td>Unknown</td>\n",
       "      <td>Unknown</td>\n",
       "      <td>2015-03-19T00:00:00</td>\n",
       "      <td>N</td>\n",
       "      <td>N</td>\n",
       "    </tr>\n",
       "    <tr>\n",
       "      <th>2</th>\n",
       "      <td>Unknown</td>\n",
       "      <td>None</td>\n",
       "      <td>7539</td>\n",
       "      <td>1960s</td>\n",
       "      <td>M</td>\n",
       "      <td>White</td>\n",
       "      <td>Unknown</td>\n",
       "      <td>Unknown</td>\n",
       "      <td>2015-04-01T00:00:00</td>\n",
       "      <td>N</td>\n",
       "      <td>N</td>\n",
       "    </tr>\n",
       "    <tr>\n",
       "      <th>3</th>\n",
       "      <td>Unknown</td>\n",
       "      <td>None</td>\n",
       "      <td>6973</td>\n",
       "      <td>1970s</td>\n",
       "      <td>M</td>\n",
       "      <td>White</td>\n",
       "      <td>Black or African American</td>\n",
       "      <td>Male</td>\n",
       "      <td>2015-04-03T00:00:00</td>\n",
       "      <td>N</td>\n",
       "      <td>N</td>\n",
       "    </tr>\n",
       "    <tr>\n",
       "      <th>4</th>\n",
       "      <td>Unknown</td>\n",
       "      <td>None</td>\n",
       "      <td>7402</td>\n",
       "      <td>1970s</td>\n",
       "      <td>M</td>\n",
       "      <td>White</td>\n",
       "      <td>Black or African American</td>\n",
       "      <td>Male</td>\n",
       "      <td>2015-04-05T00:00:00</td>\n",
       "      <td>N</td>\n",
       "      <td>N</td>\n",
       "    </tr>\n",
       "    <tr>\n",
       "      <th>...</th>\n",
       "      <td>...</td>\n",
       "      <td>...</td>\n",
       "      <td>...</td>\n",
       "      <td>...</td>\n",
       "      <td>...</td>\n",
       "      <td>...</td>\n",
       "      <td>...</td>\n",
       "      <td>...</td>\n",
       "      <td>...</td>\n",
       "      <td>...</td>\n",
       "      <td>...</td>\n",
       "    </tr>\n",
       "    <tr>\n",
       "      <th>44844</th>\n",
       "      <td>56 and Above</td>\n",
       "      <td>-</td>\n",
       "      <td>8668</td>\n",
       "      <td>1990s</td>\n",
       "      <td>F</td>\n",
       "      <td>White</td>\n",
       "      <td>White</td>\n",
       "      <td>Male</td>\n",
       "      <td>2020-11-24T00:00:00</td>\n",
       "      <td>N</td>\n",
       "      <td>N</td>\n",
       "    </tr>\n",
       "    <tr>\n",
       "      <th>44845</th>\n",
       "      <td>56 and Above</td>\n",
       "      <td>-</td>\n",
       "      <td>8747</td>\n",
       "      <td>1990s</td>\n",
       "      <td>M</td>\n",
       "      <td>White</td>\n",
       "      <td>Unknown</td>\n",
       "      <td>Male</td>\n",
       "      <td>2020-11-25T00:00:00</td>\n",
       "      <td>N</td>\n",
       "      <td>N</td>\n",
       "    </tr>\n",
       "    <tr>\n",
       "      <th>44846</th>\n",
       "      <td>56 and Above</td>\n",
       "      <td>-</td>\n",
       "      <td>7456</td>\n",
       "      <td>1970s</td>\n",
       "      <td>M</td>\n",
       "      <td>White</td>\n",
       "      <td>White</td>\n",
       "      <td>Male</td>\n",
       "      <td>2020-12-03T00:00:00</td>\n",
       "      <td>N</td>\n",
       "      <td>N</td>\n",
       "    </tr>\n",
       "    <tr>\n",
       "      <th>44847</th>\n",
       "      <td>56 and Above</td>\n",
       "      <td>Knife/Cutting/Stabbing Instrument</td>\n",
       "      <td>8646</td>\n",
       "      <td>1990s</td>\n",
       "      <td>M</td>\n",
       "      <td>White</td>\n",
       "      <td>Black or African American</td>\n",
       "      <td>Male</td>\n",
       "      <td>2020-12-15T00:00:00</td>\n",
       "      <td>N</td>\n",
       "      <td>Y</td>\n",
       "    </tr>\n",
       "    <tr>\n",
       "      <th>44848</th>\n",
       "      <td>56 and Above</td>\n",
       "      <td>-</td>\n",
       "      <td>7932</td>\n",
       "      <td>1990s</td>\n",
       "      <td>M</td>\n",
       "      <td>White</td>\n",
       "      <td>Asian</td>\n",
       "      <td>Male</td>\n",
       "      <td>2020-12-21T00:00:00</td>\n",
       "      <td>N</td>\n",
       "      <td>Y</td>\n",
       "    </tr>\n",
       "  </tbody>\n",
       "</table>\n",
       "<p>44849 rows × 11 columns</p>\n",
       "</div>"
      ],
      "text/plain": [
       "      Subject Age Group                        Weapon Type  Officer ID  \\\n",
       "0               Unknown                               None        7500   \n",
       "1               Unknown                               None        5670   \n",
       "2               Unknown                               None        7539   \n",
       "3               Unknown                               None        6973   \n",
       "4               Unknown                               None        7402   \n",
       "...                 ...                                ...         ...   \n",
       "44844      56 and Above                                  -        8668   \n",
       "44845      56 and Above                                  -        8747   \n",
       "44846      56 and Above                                  -        7456   \n",
       "44847      56 and Above  Knife/Cutting/Stabbing Instrument        8646   \n",
       "44848      56 and Above                                  -        7932   \n",
       "\n",
       "      Officer YOB Officer Gender               Officer Race  \\\n",
       "0           1980s              M  Black or African American   \n",
       "1           1960s              M                      White   \n",
       "2           1960s              M                      White   \n",
       "3           1970s              M                      White   \n",
       "4           1970s              M                      White   \n",
       "...           ...            ...                        ...   \n",
       "44844       1990s              F                      White   \n",
       "44845       1990s              M                      White   \n",
       "44846       1970s              M                      White   \n",
       "44847       1990s              M                      White   \n",
       "44848       1990s              M                      White   \n",
       "\n",
       "          Subject Perceived Race Subject Perceived Gender  \\\n",
       "0                          Asian                     Male   \n",
       "1                        Unknown                  Unknown   \n",
       "2                        Unknown                  Unknown   \n",
       "3      Black or African American                     Male   \n",
       "4      Black or African American                     Male   \n",
       "...                          ...                      ...   \n",
       "44844                      White                     Male   \n",
       "44845                    Unknown                     Male   \n",
       "44846                      White                     Male   \n",
       "44847  Black or African American                     Male   \n",
       "44848                      Asian                     Male   \n",
       "\n",
       "             Reported Date Arrest Flag Frisk Flag  \n",
       "0      2015-10-16T00:00:00           N          N  \n",
       "1      2015-03-19T00:00:00           N          N  \n",
       "2      2015-04-01T00:00:00           N          N  \n",
       "3      2015-04-03T00:00:00           N          N  \n",
       "4      2015-04-05T00:00:00           N          N  \n",
       "...                    ...         ...        ...  \n",
       "44844  2020-11-24T00:00:00           N          N  \n",
       "44845  2020-11-25T00:00:00           N          N  \n",
       "44846  2020-12-03T00:00:00           N          N  \n",
       "44847  2020-12-15T00:00:00           N          Y  \n",
       "44848  2020-12-21T00:00:00           N          Y  \n",
       "\n",
       "[44849 rows x 11 columns]"
      ]
     },
     "execution_count": 163,
     "metadata": {},
     "output_type": "execute_result"
    }
   ],
   "source": [
    "df2 = df1.drop(columns = ['Unnamed: 0', 'Stop Resolution', 'Reported Time' ], axis = 1)\n",
    "df2"
   ]
  },
  {
   "cell_type": "code",
   "execution_count": 171,
   "metadata": {},
   "outputs": [],
   "source": [
    "df2.to_csv(r'C:\\Users\\melfr\\Documents\\Flatiron\\p3\\phase_project\\terry_analysis\\FriskAnalysis\\final_df.csv')"
   ]
  },
  {
   "cell_type": "markdown",
   "metadata": {},
   "source": [
    "With the new dataframe, I am now creating new target and predictor value and following the same initial steps prior to fitting a model. The Decision Tree Classifier will be used again to calculate and plot the top 10 important features."
   ]
  },
  {
   "cell_type": "code",
   "execution_count": 164,
   "metadata": {},
   "outputs": [],
   "source": [
    "target_NEW = df2['Arrest Flag']\n",
    "predictors_NEW = df2.drop(columns = ['Arrest Flag'], axis = 1)"
   ]
  },
  {
   "cell_type": "code",
   "execution_count": 179,
   "metadata": {},
   "outputs": [],
   "source": [
    "target_NEW.replace({\"N\": 0, \"Y\": 1}, inplace=True)\n",
    "predictors_NEW['Frisk Flag'].replace({\"N\": 0, \"Y\": 1}, inplace=True)"
   ]
  },
  {
   "cell_type": "code",
   "execution_count": 180,
   "metadata": {},
   "outputs": [],
   "source": [
    "dummy_predictors_NEW = pd.get_dummies(predictors_NEW, drop_first=False)"
   ]
  },
  {
   "cell_type": "code",
   "execution_count": 181,
   "metadata": {},
   "outputs": [],
   "source": [
    "X_train2, X_test2, y_train2, y_test2 = train_test_split(dummy_predictors_NEW, target_NEW, random_state=11)"
   ]
  },
  {
   "cell_type": "code",
   "execution_count": 182,
   "metadata": {},
   "outputs": [
    {
     "data": {
      "text/plain": [
       "DecisionTreeClassifier(random_state=11)"
      ]
     },
     "execution_count": 182,
     "metadata": {},
     "output_type": "execute_result"
    }
   ],
   "source": [
    "TreeClassifier2 = DecisionTreeClassifier(random_state=11)  \n",
    "TreeClassifier2.fit(X_train2, y_train2)"
   ]
  },
  {
   "cell_type": "code",
   "execution_count": 194,
   "metadata": {},
   "outputs": [
    {
     "data": {
      "text/plain": [
       "array([0.10487198, 0.00759592, 0.00160812, ..., 0.        , 0.00059423,\n",
       "       0.        ])"
      ]
     },
     "execution_count": 194,
     "metadata": {},
     "output_type": "execute_result"
    }
   ],
   "source": [
    "TreeClassifier2.feature_importances_"
   ]
  },
  {
   "cell_type": "code",
   "execution_count": 184,
   "metadata": {},
   "outputs": [
    {
     "data": {
      "image/png": "[encoded data removed]",
      "text/plain": [
       "<Figure size 720x720 with 1 Axes>"
      ]
     },
     "metadata": {
      "needs_background": "light"
     },
     "output_type": "display_data"
    }
   ],
   "source": [
    "plot_feature_importances(TreeClassifier2, X_train2)"
   ]
  },
  {
   "cell_type": "markdown",
   "metadata": {},
   "source": [
    "This seems to be a lot more reasonable and to be expected, while there are some predictors that weigh more heavily than others, it still doesn't pass a 0.20 threshold so it's not overwelming. Before implementing Bagged Trees, I want to also go back and reevaluate the logistic regression and decision tree models with this new dataset."
   ]
  },
  {
   "cell_type": "markdown",
   "metadata": {},
   "source": [
    "Rebuilding the logistic regression model from the previous notebook:"
   ]
  },
  {
   "cell_type": "code",
   "execution_count": 185,
   "metadata": {},
   "outputs": [
    {
     "data": {
      "text/plain": [
       "LogisticRegression(C=1000000000000.0, fit_intercept=False)"
      ]
     },
     "execution_count": 185,
     "metadata": {},
     "output_type": "execute_result"
    }
   ],
   "source": [
    "logreg = LogisticRegression(fit_intercept=False, C=1e12, solver='lbfgs')\n",
    "model_log = logreg.fit(X_train2, y_train2)\n",
    "model_log"
   ]
  },
  {
   "cell_type": "code",
   "execution_count": 186,
   "metadata": {},
   "outputs": [],
   "source": [
    "yhat_trainLOG = logreg.predict(X_train2)\n",
    "yhat_testLOG = logreg.predict(X_test2)"
   ]
  },
  {
   "cell_type": "code",
   "execution_count": 188,
   "metadata": {},
   "outputs": [
    {
     "name": "stdout",
     "output_type": "stream",
     "text": [
      "0    31459\n",
      "1     2177\n",
      "Name: Arrest Flag, dtype: int64\n",
      "0    0.935278\n",
      "1    0.064722\n",
      "Name: Arrest Flag, dtype: float64\n"
     ]
    }
   ],
   "source": [
    "yhat_trainLOG.astype('float64')\n",
    "yhat_testLOG.astype('float64')\n",
    "\n",
    "residuals = np.abs(y_train2 - yhat_trainLOG)\n",
    "print(pd.Series(residuals).value_counts())\n",
    "print(pd.Series(residuals).value_counts(normalize=True))"
   ]
  },
  {
   "cell_type": "code",
   "execution_count": 189,
   "metadata": {},
   "outputs": [],
   "source": [
    "def model_eval(YTrain, YTest, YHat_Train, YHat_Test):\n",
    "    PrecisionTrain = precision_score(YTrain, YHat_Train)\n",
    "    PrecisionTest = precision_score(YTest, YHat_Test)\n",
    "    RecallTrain = recall_score(YTrain, YHat_Train)\n",
    "    RecallTest = recall_score(YTest, YHat_Test)\n",
    "    AccuracyTrain = accuracy_score(YTrain, YHat_Train)\n",
    "    AccuracyTest = accuracy_score(YTest, YHat_Test)\n",
    "    F1Train = f1_score(YTrain, YHat_Train)\n",
    "    F1Test = f1_score(YTest, YHat_Test)\n",
    "    print('Precision Score:\\nTrain: {}  Test: {}\\nRecall Score:\\nTrain: {}  Test {}\\nAccuracy Score:\\nTrain: {}  Test: {}\\nF1 Score:\\nTrain: {}  Test: {}'.format(\n",
    "                                                    PrecisionTrain, PrecisionTest, RecallTrain, RecallTest, \n",
    "                                                    AccuracyTrain, AccuracyTest, F1Train, F1Test))"
   ]
  },
  {
   "cell_type": "code",
   "execution_count": 191,
   "metadata": {},
   "outputs": [
    {
     "data": {
      "text/plain": [
       "array([[10487,    72],\n",
       "       [  610,    44]], dtype=int64)"
      ]
     },
     "execution_count": 191,
     "metadata": {},
     "output_type": "execute_result"
    }
   ],
   "source": [
    "cnf_matrixLOG = confusion_matrix(y_test2, yhat_testLOG)\n",
    "cnf_matrixLOG"
   ]
  },
  {
   "cell_type": "code",
   "execution_count": 192,
   "metadata": {},
   "outputs": [
    {
     "data": {
      "image/png": "[encoded data removed]",
      "text/plain": [
       "<Figure size 432x288 with 2 Axes>"
      ]
     },
     "metadata": {
      "needs_background": "light"
     },
     "output_type": "display_data"
    }
   ],
   "source": [
    "plot_confusion_matrix(logreg, X_test2, y_test2)\n",
    "plt.show()"
   ]
  },
  {
   "cell_type": "code",
   "execution_count": 190,
   "metadata": {
    "scrolled": true
   },
   "outputs": [
    {
     "name": "stdout",
     "output_type": "stream",
     "text": [
      "Precision Score:\n",
      "Train: 0.36363636363636365  Test: 0.3793103448275862\n",
      "Recall Score:\n",
      "Train: 0.061508889956751564  Test 0.0672782874617737\n",
      "Accuracy Score:\n",
      "Train: 0.9352776786776074  Test: 0.9391777401230714\n",
      "F1 Score:\n",
      "Train: 0.10521989313604604  Test: 0.11428571428571428\n"
     ]
    }
   ],
   "source": [
    "model_eval(y_train2, y_test2, yhat_trainLOG, yhat_testLOG)"
   ]
  },
  {
   "cell_type": "code",
   "execution_count": 229,
   "metadata": {},
   "outputs": [
    {
     "name": "stdout",
     "output_type": "stream",
     "text": [
      "AUC is :0.53\n"
     ]
    }
   ],
   "source": [
    "false_positive_rate, true_positive_rate, thresholds = roc_curve(y_test2, yhat_testLOG)\n",
    "roc_auc = auc(false_positive_rate, true_positive_rate)\n",
    "print('AUC is :{0}'.format(round(roc_auc, 2)))"
   ]
  },
  {
   "cell_type": "markdown",
   "metadata": {},
   "source": [
    "It's pretty interesting to see how much the model changed by deleting those three columns. The accuracy went up a little but nearly all the other scores went down. This confirms that logistic regression is not the best model approach for this data.\n",
    "\n",
    "Next to rebuild the decision tree model from the previous notebook:"
   ]
  },
  {
   "cell_type": "code",
   "execution_count": 195,
   "metadata": {},
   "outputs": [],
   "source": [
    "#because a decision tree model was used to make the second plot for feature importance, we can just build off that model.\n",
    "ypred_testTREE = TreeClassifier2.predict(X_test2)\n",
    "ypred_trainTREE = TreeClassifier2.predict(X_train2)"
   ]
  },
  {
   "cell_type": "code",
   "execution_count": 199,
   "metadata": {},
   "outputs": [
    {
     "data": {
      "text/plain": [
       "array([[10266,   293],\n",
       "       [  498,   156]], dtype=int64)"
      ]
     },
     "execution_count": 199,
     "metadata": {},
     "output_type": "execute_result"
    }
   ],
   "source": [
    "cnf_matrix = confusion_matrix(y_test2, ypred_testTREE)\n",
    "cnf_matrix"
   ]
  },
  {
   "cell_type": "code",
   "execution_count": 200,
   "metadata": {},
   "outputs": [
    {
     "data": {
      "image/png": "[encoded data removed]",
      "text/plain": [
       "<Figure size 432x288 with 2 Axes>"
      ]
     },
     "metadata": {
      "needs_background": "light"
     },
     "output_type": "display_data"
    }
   ],
   "source": [
    "plot_confusion_matrix(TreeClassifier2, X_test2, y_test2)\n",
    "plt.show()"
   ]
  },
  {
   "cell_type": "code",
   "execution_count": 196,
   "metadata": {},
   "outputs": [
    {
     "name": "stdout",
     "output_type": "stream",
     "text": [
      "Precision Score:\n",
      "Train: 0.9995159728944821  Test: 0.34743875278396436\n",
      "Recall Score:\n",
      "Train: 0.992311388755406  Test 0.23853211009174313\n",
      "Accuracy Score:\n",
      "Train: 0.9994945891306933  Test: 0.9294568804066708\n",
      "F1 Score:\n",
      "Train: 0.9959006510730649  Test: 0.2828649138712602\n"
     ]
    }
   ],
   "source": [
    "model_eval(y_train2, y_test2, ypred_trainTREE, ypred_testTREE)"
   ]
  },
  {
   "cell_type": "code",
   "execution_count": 198,
   "metadata": {},
   "outputs": [
    {
     "name": "stdout",
     "output_type": "stream",
     "text": [
      "AUC is :0.61\n"
     ]
    }
   ],
   "source": [
    "false_positive_rate, true_positive_rate, thresholds = roc_curve(y_test2, ypred_testTREE)\n",
    "roc_auc = auc(false_positive_rate, true_positive_rate)\n",
    "print('AUC is :{0}'.format(round(roc_auc, 2)))"
   ]
  },
  {
   "cell_type": "markdown",
   "metadata": {},
   "source": [
    "This confirms some of my suspicion that the model was performing better than it should and that the previous data was causing it to overfit. While the AUC of 0.61 is still ok, I believe it will be important to implemente tree ensemble methods to see if can make the results even better."
   ]
  },
  {
   "cell_type": "code",
   "execution_count": 206,
   "metadata": {},
   "outputs": [
    {
     "data": {
      "text/plain": [
       "BaggingClassifier(base_estimator=DecisionTreeClassifier(max_depth=5),\n",
       "                  n_estimators=100)"
      ]
     },
     "execution_count": 206,
     "metadata": {},
     "output_type": "execute_result"
    }
   ],
   "source": [
    "bagged_tree = BaggingClassifier(DecisionTreeClassifier(criterion='gini', max_depth=5), n_estimators=100)\n",
    "bagged_tree.fit(X_train2, y_train2)"
   ]
  },
  {
   "cell_type": "code",
   "execution_count": 207,
   "metadata": {},
   "outputs": [],
   "source": [
    "BaggedTree_test = bagged_tree.predict(X_test2)\n",
    "BaggedTree_train = bagged_tree.predict(X_train2)"
   ]
  },
  {
   "cell_type": "code",
   "execution_count": 208,
   "metadata": {},
   "outputs": [
    {
     "name": "stdout",
     "output_type": "stream",
     "text": [
      "Precision Score:\n",
      "Train: 1.0  Test: 1.0\n",
      "Recall Score:\n",
      "Train: 0.005766458433445459  Test 0.0015290519877675841\n",
      "Accuracy Score:\n",
      "Train: 0.9384885242002616  Test: 0.9417640239008294\n",
      "F1 Score:\n",
      "Train: 0.011466794075489728  Test: 0.0030534351145038168\n"
     ]
    }
   ],
   "source": [
    "model_eval(y_train2, y_test2, BaggedTree_train, BaggedTree_test)"
   ]
  },
  {
   "cell_type": "code",
   "execution_count": 209,
   "metadata": {},
   "outputs": [
    {
     "name": "stdout",
     "output_type": "stream",
     "text": [
      "AUC is :0.5\n"
     ]
    }
   ],
   "source": [
    "false_positive_rate, true_positive_rate, thresholds = roc_curve(y_test2, BaggedTree_test)\n",
    "roc_auc = auc(false_positive_rate, true_positive_rate)\n",
    "print('AUC is :{0}'.format(round(roc_auc, 2)))"
   ]
  },
  {
   "cell_type": "markdown",
   "metadata": {},
   "source": [
    "While Bagged Trees increased the Accuracy a little, Precision nearly doubled. However AUC droped down to 50%. Using the Random Forest model will be next."
   ]
  },
  {
   "cell_type": "code",
   "execution_count": 210,
   "metadata": {},
   "outputs": [
    {
     "data": {
      "text/plain": [
       "RandomForestClassifier(max_depth=5)"
      ]
     },
     "execution_count": 210,
     "metadata": {},
     "output_type": "execute_result"
    }
   ],
   "source": [
    "forest = RandomForestClassifier(n_estimators=100, max_depth= 5)\n",
    "forest.fit(X_train2, y_train2)"
   ]
  },
  {
   "cell_type": "code",
   "execution_count": 211,
   "metadata": {},
   "outputs": [],
   "source": [
    "Forest_test = forest.predict(X_test2)\n",
    "Forest_train = forest.predict(X_train2)"
   ]
  },
  {
   "cell_type": "code",
   "execution_count": 212,
   "metadata": {},
   "outputs": [
    {
     "name": "stdout",
     "output_type": "stream",
     "text": [
      "Precision Score:\n",
      "Train: 0.0  Test: 0.0\n",
      "Recall Score:\n",
      "Train: 0.0  Test 0.0\n",
      "Accuracy Score:\n",
      "Train: 0.9381317635866334  Test: 0.9416748417015963\n",
      "F1 Score:\n",
      "Train: 0.0  Test: 0.0\n"
     ]
    }
   ],
   "source": [
    "model_eval(y_train2, y_test2, Forest_train, Forest_test)"
   ]
  },
  {
   "cell_type": "code",
   "execution_count": 213,
   "metadata": {},
   "outputs": [
    {
     "data": {
      "text/plain": [
       "array([[10559,     0],\n",
       "       [  654,     0]], dtype=int64)"
      ]
     },
     "execution_count": 213,
     "metadata": {},
     "output_type": "execute_result"
    }
   ],
   "source": [
    "cnf_matrix = confusion_matrix(y_test2, Forest_test)\n",
    "cnf_matrix"
   ]
  },
  {
   "cell_type": "code",
   "execution_count": 214,
   "metadata": {},
   "outputs": [
    {
     "data": {
      "image/png": "[encoded data removed]",
      "text/plain": [
       "<Figure size 432x288 with 2 Axes>"
      ]
     },
     "metadata": {
      "needs_background": "light"
     },
     "output_type": "display_data"
    }
   ],
   "source": [
    "plot_confusion_matrix(forest, X_test2, y_test2)\n",
    "plt.show()"
   ]
  },
  {
   "cell_type": "code",
   "execution_count": 215,
   "metadata": {},
   "outputs": [
    {
     "name": "stdout",
     "output_type": "stream",
     "text": [
      "AUC is :0.5\n"
     ]
    }
   ],
   "source": [
    "false_positive_rate, true_positive_rate, thresholds = roc_curve(y_test2, Forest_test)\n",
    "roc_auc = auc(false_positive_rate, true_positive_rate)\n",
    "print('AUC is :{0}'.format(round(roc_auc, 2)))"
   ]
  },
  {
   "cell_type": "code",
   "execution_count": 217,
   "metadata": {},
   "outputs": [
    {
     "data": {
      "image/png": "[encoded data removed]",
      "text/plain": [
       "<Figure size 720x720 with 1 Axes>"
      ]
     },
     "metadata": {
      "needs_background": "light"
     },
     "output_type": "display_data"
    }
   ],
   "source": [
    "plot_feature_importances(forest, X_train2)"
   ]
  },
  {
   "cell_type": "markdown",
   "metadata": {},
   "source": [
    "Surprisingly, the Decision Tree ensemble methods for bagging and boosting seems to not have helped the model. This could be from either user error (me) or data being overfit. Looking at the values for feature importance, it is also interesting that the third most important feature is Weapon Type - None. More evaluation of the Weapon Type column may be needed.\n",
    "\n",
    "Finally XGBoost will be used."
   ]
  },
  {
   "cell_type": "code",
   "execution_count": 220,
   "metadata": {},
   "outputs": [
    {
     "data": {
      "text/plain": [
       "XGBClassifier()"
      ]
     },
     "execution_count": 220,
     "metadata": {},
     "output_type": "execute_result"
    }
   ],
   "source": [
    "XGB = XGBClassifier()\n",
    "XGB.fit(X_train2, y_train2)"
   ]
  },
  {
   "cell_type": "code",
   "execution_count": 221,
   "metadata": {},
   "outputs": [],
   "source": [
    "training_preds = XGB.predict(X_train2)\n",
    "test_preds = XGB.predict(X_test2)"
   ]
  },
  {
   "cell_type": "code",
   "execution_count": 222,
   "metadata": {},
   "outputs": [
    {
     "name": "stdout",
     "output_type": "stream",
     "text": [
      "Precision Score:\n",
      "Train: 1.0  Test: 1.0\n",
      "Recall Score:\n",
      "Train: 0.0019221528111484864  Test 0.0015290519877675841\n",
      "Accuracy Score:\n",
      "Train: 0.9382506837911762  Test: 0.9417640239008294\n",
      "F1 Score:\n",
      "Train: 0.003836930455635492  Test: 0.0030534351145038168\n"
     ]
    }
   ],
   "source": [
    "model_eval(y_train2, y_test2, training_preds, test_preds)"
   ]
  },
  {
   "cell_type": "code",
   "execution_count": 223,
   "metadata": {},
   "outputs": [
    {
     "name": "stdout",
     "output_type": "stream",
     "text": [
      "AUC is :0.5\n"
     ]
    }
   ],
   "source": [
    "false_positive_rate, true_positive_rate, thresholds = roc_curve(y_test2, test_preds)\n",
    "roc_auc = auc(false_positive_rate, true_positive_rate)\n",
    "print('AUC is :{0}'.format(round(roc_auc, 2)))"
   ]
  },
  {
   "cell_type": "code",
   "execution_count": 230,
   "metadata": {},
   "outputs": [
    {
     "data": {
      "text/plain": [
       "array([[10559,     0],\n",
       "       [  653,     1]], dtype=int64)"
      ]
     },
     "execution_count": 230,
     "metadata": {},
     "output_type": "execute_result"
    }
   ],
   "source": [
    "cnf_matrix = confusion_matrix(y_test2, test_preds)\n",
    "cnf_matrix"
   ]
  },
  {
   "cell_type": "code",
   "execution_count": 231,
   "metadata": {},
   "outputs": [
    {
     "data": {
      "image/png": "[encoded data removed]",
      "text/plain": [
       "<Figure size 432x288 with 2 Axes>"
      ]
     },
     "metadata": {
      "needs_background": "light"
     },
     "output_type": "display_data"
    }
   ],
   "source": [
    "plot_confusion_matrix(XGB, X_test2, y_test2)\n",
    "plt.show()"
   ]
  },
  {
   "cell_type": "code",
   "execution_count": 239,
   "metadata": {},
   "outputs": [],
   "source": [
    "param_grid = {\n",
    "    'learning_rate': [0.1, 0.2, 0.3, 0.4, 0.5],\n",
    "    'max_depth': [1,2,3,4,5],\n",
    "    'n_estimators': [20],\n",
    "}"
   ]
  },
  {
   "cell_type": "code",
   "execution_count": 240,
   "metadata": {},
   "outputs": [
    {
     "name": "stdout",
     "output_type": "stream",
     "text": [
      "Grid Search found the following optimal parameters: \n",
      "learning_rate: 0.3\n",
      "max_depth: 4\n",
      "n_estimators: 20\n",
      "\n",
      "Training Accuracy: 93.82%\n",
      "Validation accuracy: 94.19%\n"
     ]
    }
   ],
   "source": [
    "grid_tune = GridSearchCV(XGB, param_grid, scoring='accuracy', cv=None, n_jobs=1)\n",
    "grid_tune.fit(X_train2, y_train2)\n",
    "\n",
    "best_parameters = grid_tune.best_params_\n",
    "\n",
    "print('Grid Search found the following optimal parameters: ')\n",
    "for param_name in sorted(best_parameters.keys()):\n",
    "    print('%s: %r' % (param_name, best_parameters[param_name]))\n",
    "\n",
    "training_preds = grid_tune.predict(X_train2)\n",
    "test_preds = grid_tune.predict(X_test2)\n",
    "training_accuracy = accuracy_score(y_train2, training_preds)\n",
    "test_accuracy = accuracy_score(y_test2, test_preds)\n",
    "\n",
    "print('')\n",
    "print('Training Accuracy: {:.4}%'.format(training_accuracy * 100))\n",
    "print('Validation accuracy: {:.4}%'.format(test_accuracy * 100))"
   ]
  },
  {
   "cell_type": "code",
   "execution_count": 241,
   "metadata": {},
   "outputs": [
    {
     "name": "stdout",
     "output_type": "stream",
     "text": [
      "AUC is :0.5\n"
     ]
    }
   ],
   "source": [
    "false_positive_rate, true_positive_rate, thresholds = roc_curve(y_test2, test_preds)\n",
    "roc_auc = auc(false_positive_rate, true_positive_rate)\n",
    "print('AUC is :{0}'.format(round(roc_auc, 2)))"
   ]
  },
  {
   "cell_type": "markdown",
   "metadata": {},
   "source": [
    "Some parameter adjustments didn't seem to make much of a difference, however most were not able to be performed due to computer performance and time. For an initial model this one showed the most promise since Logistic Regression and the Trees seemed to have some overfitting issues. The Accuracy does seem to be quite high, however the results of the confusion tree are... confusing since there is a high amount of True Negatives, but only one True Positive, and with all the other values falling into False Negative."
   ]
  }
 ],
 "metadata": {
  "kernelspec": {
   "display_name": "learn-env",
   "language": "python",
   "name": "learn-env"
  },
  "language_info": {
   "codemirror_mode": {
    "name": "ipython",
    "version": 3
   },
   "file_extension": ".py",
   "mimetype": "text/x-python",
   "name": "python",
   "nbconvert_exporter": "python",
   "pygments_lexer": "ipython3",
   "version": "3.6.9"
  }
 },
 "nbformat": 4,
 "nbformat_minor": 4
}
