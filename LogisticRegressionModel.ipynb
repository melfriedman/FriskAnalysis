{
 "cells": [
  {
   "cell_type": "markdown",
   "metadata": {},
   "source": [
    "For the first initial model, I wanted to run Logistic Regression since it seems to be one of the easier models to understand. Since my data was also a binary Yes/No I figured that this would make modeling much easier. During previous EDA I created a DataFrame containing the Arrest Flag column to use as my target Y and the remaining columns would be my predictors X."
   ]
  },
  {
   "cell_type": "code",
   "execution_count": 21,
   "metadata": {},
   "outputs": [],
   "source": [
    "import pandas as pd\n",
    "pd.pandas.set_option('display.max_columns', None)\n",
    "import numpy as np\n",
    "import statsmodels.api as sm\n",
    "import matplotlib.pyplot as plt\n",
    "import warnings\n",
    "warnings.filterwarnings('ignore')\n",
    "from sklearn.linear_model import LogisticRegression\n",
    "from sklearn.model_selection import train_test_split\n",
    "from sklearn.preprocessing import StandardScaler"
   ]
  },
  {
   "cell_type": "code",
   "execution_count": 3,
   "metadata": {},
   "outputs": [
    {
     "data": {
      "text/html": [
       "<div>\n",
       "<style scoped>\n",
       "    .dataframe tbody tr th:only-of-type {\n",
       "        vertical-align: middle;\n",
       "    }\n",
       "\n",
       "    .dataframe tbody tr th {\n",
       "        vertical-align: top;\n",
       "    }\n",
       "\n",
       "    .dataframe thead th {\n",
       "        text-align: right;\n",
       "    }\n",
       "</style>\n",
       "<table border=\"1\" class=\"dataframe\">\n",
       "  <thead>\n",
       "    <tr style=\"text-align: right;\">\n",
       "      <th></th>\n",
       "      <th>Unnamed: 0</th>\n",
       "      <th>Subject Age Group</th>\n",
       "      <th>Stop Resolution</th>\n",
       "      <th>Weapon Type</th>\n",
       "      <th>Officer ID</th>\n",
       "      <th>Officer YOB</th>\n",
       "      <th>Officer Gender</th>\n",
       "      <th>Officer Race</th>\n",
       "      <th>Subject Perceived Race</th>\n",
       "      <th>Subject Perceived Gender</th>\n",
       "      <th>Reported Date</th>\n",
       "      <th>Reported Time</th>\n",
       "      <th>Arrest Flag</th>\n",
       "      <th>Frisk Flag</th>\n",
       "    </tr>\n",
       "  </thead>\n",
       "  <tbody>\n",
       "    <tr>\n",
       "      <th>0</th>\n",
       "      <td>0</td>\n",
       "      <td>Unknown</td>\n",
       "      <td>Arrest</td>\n",
       "      <td>None</td>\n",
       "      <td>7500</td>\n",
       "      <td>1980s</td>\n",
       "      <td>M</td>\n",
       "      <td>Black or African American</td>\n",
       "      <td>Asian</td>\n",
       "      <td>Male</td>\n",
       "      <td>2015-10-16T00:00:00</td>\n",
       "      <td>11:32:00</td>\n",
       "      <td>N</td>\n",
       "      <td>N</td>\n",
       "    </tr>\n",
       "    <tr>\n",
       "      <th>1</th>\n",
       "      <td>1</td>\n",
       "      <td>Unknown</td>\n",
       "      <td>Field Contact</td>\n",
       "      <td>None</td>\n",
       "      <td>5670</td>\n",
       "      <td>1960s</td>\n",
       "      <td>M</td>\n",
       "      <td>White</td>\n",
       "      <td>Unknown</td>\n",
       "      <td>Unknown</td>\n",
       "      <td>2015-03-19T00:00:00</td>\n",
       "      <td>07:59:00</td>\n",
       "      <td>N</td>\n",
       "      <td>N</td>\n",
       "    </tr>\n",
       "    <tr>\n",
       "      <th>2</th>\n",
       "      <td>3</td>\n",
       "      <td>Unknown</td>\n",
       "      <td>Field Contact</td>\n",
       "      <td>None</td>\n",
       "      <td>7539</td>\n",
       "      <td>1960s</td>\n",
       "      <td>M</td>\n",
       "      <td>White</td>\n",
       "      <td>Unknown</td>\n",
       "      <td>Unknown</td>\n",
       "      <td>2015-04-01T00:00:00</td>\n",
       "      <td>04:55:00</td>\n",
       "      <td>N</td>\n",
       "      <td>N</td>\n",
       "    </tr>\n",
       "    <tr>\n",
       "      <th>3</th>\n",
       "      <td>4</td>\n",
       "      <td>Unknown</td>\n",
       "      <td>Field Contact</td>\n",
       "      <td>None</td>\n",
       "      <td>6973</td>\n",
       "      <td>1970s</td>\n",
       "      <td>M</td>\n",
       "      <td>White</td>\n",
       "      <td>Black or African American</td>\n",
       "      <td>Male</td>\n",
       "      <td>2015-04-03T00:00:00</td>\n",
       "      <td>00:41:00</td>\n",
       "      <td>N</td>\n",
       "      <td>N</td>\n",
       "    </tr>\n",
       "    <tr>\n",
       "      <th>4</th>\n",
       "      <td>5</td>\n",
       "      <td>Unknown</td>\n",
       "      <td>Field Contact</td>\n",
       "      <td>None</td>\n",
       "      <td>7402</td>\n",
       "      <td>1970s</td>\n",
       "      <td>M</td>\n",
       "      <td>White</td>\n",
       "      <td>Black or African American</td>\n",
       "      <td>Male</td>\n",
       "      <td>2015-04-05T00:00:00</td>\n",
       "      <td>23:46:00</td>\n",
       "      <td>N</td>\n",
       "      <td>N</td>\n",
       "    </tr>\n",
       "  </tbody>\n",
       "</table>\n",
       "</div>"
      ],
      "text/plain": [
       "   Unnamed: 0 Subject Age Group Stop Resolution Weapon Type  Officer ID  \\\n",
       "0           0           Unknown          Arrest        None        7500   \n",
       "1           1           Unknown   Field Contact        None        5670   \n",
       "2           3           Unknown   Field Contact        None        7539   \n",
       "3           4           Unknown   Field Contact        None        6973   \n",
       "4           5           Unknown   Field Contact        None        7402   \n",
       "\n",
       "  Officer YOB Officer Gender               Officer Race  \\\n",
       "0       1980s              M  Black or African American   \n",
       "1       1960s              M                      White   \n",
       "2       1960s              M                      White   \n",
       "3       1970s              M                      White   \n",
       "4       1970s              M                      White   \n",
       "\n",
       "      Subject Perceived Race Subject Perceived Gender        Reported Date  \\\n",
       "0                      Asian                     Male  2015-10-16T00:00:00   \n",
       "1                    Unknown                  Unknown  2015-03-19T00:00:00   \n",
       "2                    Unknown                  Unknown  2015-04-01T00:00:00   \n",
       "3  Black or African American                     Male  2015-04-03T00:00:00   \n",
       "4  Black or African American                     Male  2015-04-05T00:00:00   \n",
       "\n",
       "  Reported Time Arrest Flag Frisk Flag  \n",
       "0      11:32:00           N          N  \n",
       "1      07:59:00           N          N  \n",
       "2      04:55:00           N          N  \n",
       "3      00:41:00           N          N  \n",
       "4      23:46:00           N          N  "
      ]
     },
     "execution_count": 3,
     "metadata": {},
     "output_type": "execute_result"
    }
   ],
   "source": [
    "df1 = pd.read_csv('EDA_df.csv')\n",
    "df1.head()"
   ]
  },
  {
   "cell_type": "code",
   "execution_count": 4,
   "metadata": {},
   "outputs": [],
   "source": [
    "target = df1['Arrest Flag']\n",
    "predictors = df1.drop(columns = ['Arrest Flag'], axis = 1)"
   ]
  },
  {
   "cell_type": "markdown",
   "metadata": {},
   "source": [
    "Checking the distribution of values for the target column. To make calculations easier I change the N/Y to 0/1 for easier calculations."
   ]
  },
  {
   "cell_type": "code",
   "execution_count": 5,
   "metadata": {},
   "outputs": [
    {
     "data": {
      "text/plain": [
       "N    42114\n",
       "Y     2735\n",
       "Name: Arrest Flag, dtype: int64"
      ]
     },
     "execution_count": 5,
     "metadata": {},
     "output_type": "execute_result"
    }
   ],
   "source": [
    "df1['Arrest Flag'].value_counts()"
   ]
  },
  {
   "cell_type": "code",
   "execution_count": 6,
   "metadata": {},
   "outputs": [],
   "source": [
    "target.replace({\"N\": 0, \"Y\": 1}, inplace=True)"
   ]
  },
  {
   "cell_type": "code",
   "execution_count": 7,
   "metadata": {},
   "outputs": [],
   "source": [
    "predictors['Frisk Flag'].replace({\"N\": 0, \"Y\": 1}, inplace=True)"
   ]
  },
  {
   "cell_type": "markdown",
   "metadata": {},
   "source": [
    "To set up for modeling I create dummy variables and and then do a train_test_split. I also scale the data so it can run through the LogisticRegression model smoothly."
   ]
  },
  {
   "cell_type": "code",
   "execution_count": 9,
   "metadata": {},
   "outputs": [],
   "source": [
    "dummy_predictors = pd.get_dummies(predictors, drop_first=False)"
   ]
  },
  {
   "cell_type": "code",
   "execution_count": 10,
   "metadata": {},
   "outputs": [],
   "source": [
    "X_train, X_test, y_train, y_test = train_test_split(dummy_predictors, target, random_state=11)"
   ]
  },
  {
   "cell_type": "code",
   "execution_count": 11,
   "metadata": {},
   "outputs": [],
   "source": [
    "stdscale = StandardScaler()\n",
    "X_train = stdscale.fit_transform(X_train)\n",
    "X_test = stdscale.transform(X_test)"
   ]
  },
  {
   "cell_type": "code",
   "execution_count": 12,
   "metadata": {},
   "outputs": [
    {
     "data": {
      "text/plain": [
       "LogisticRegression(C=1000000000000.0, fit_intercept=False)"
      ]
     },
     "execution_count": 12,
     "metadata": {},
     "output_type": "execute_result"
    }
   ],
   "source": [
    "logreg = LogisticRegression(fit_intercept=False, C=1e12, solver='lbfgs')\n",
    "model_log = logreg.fit(X_train, y_train)\n",
    "model_log"
   ]
  },
  {
   "cell_type": "code",
   "execution_count": 13,
   "metadata": {},
   "outputs": [],
   "source": [
    "y_hat_train = logreg.predict(X_train)\n",
    "y_hat_test = logreg.predict(X_test)"
   ]
  },
  {
   "cell_type": "markdown",
   "metadata": {},
   "source": [
    "Starting assessment of how well the model ran, somehow it shows that it has 100% predicting accuracy on the training set... however that seems too good to be true. Also with a previous run, I had a 99% for training and test while using the same random_state. Regardless, having it show that I had a nearly 85% predicting power for the test set was something nice to see."
   ]
  },
  {
   "cell_type": "code",
   "execution_count": 14,
   "metadata": {},
   "outputs": [
    {
     "name": "stdout",
     "output_type": "stream",
     "text": [
      "0    33636\n",
      "Name: Arrest Flag, dtype: int64\n",
      "0    1.0\n",
      "Name: Arrest Flag, dtype: float64\n"
     ]
    }
   ],
   "source": [
    "y_hat_train.astype('float64')\n",
    "y_train.astype('float64')\n",
    "\n",
    "residuals = np.abs(y_train - y_hat_train)\n",
    "print(pd.Series(residuals).value_counts())\n",
    "print(pd.Series(residuals).value_counts(normalize=True))"
   ]
  },
  {
   "cell_type": "code",
   "execution_count": 15,
   "metadata": {},
   "outputs": [
    {
     "name": "stdout",
     "output_type": "stream",
     "text": [
      "0    9528\n",
      "1    1685\n",
      "Name: Arrest Flag, dtype: int64\n",
      "0    0.849728\n",
      "1    0.150272\n",
      "Name: Arrest Flag, dtype: float64\n"
     ]
    }
   ],
   "source": [
    "y_hat_test.astype('float64')\n",
    "y_test.astype('float64')\n",
    "\n",
    "residuals = np.abs(y_test - y_hat_test)\n",
    "print(pd.Series(residuals).value_counts())\n",
    "print(pd.Series(residuals).value_counts(normalize=True))"
   ]
  },
  {
   "cell_type": "markdown",
   "metadata": {},
   "source": [
    "Lastly I will be creating a confusion matrix and plotting a quick visualization for it, as well as doing calculations for precision, recall, accuracy, and F1."
   ]
  },
  {
   "cell_type": "code",
   "execution_count": 23,
   "metadata": {},
   "outputs": [],
   "source": [
    "from sklearn.metrics import confusion_matrix\n",
    "from sklearn.metrics import plot_confusion_matrix\n",
    "from sklearn.metrics import precision_score, recall_score, accuracy_score, f1_score"
   ]
  },
  {
   "cell_type": "code",
   "execution_count": 17,
   "metadata": {},
   "outputs": [
    {
     "data": {
      "text/plain": [
       "{'TP': 540, 'TN': 8988, 'FP': 1571, 'FN': 114}"
      ]
     },
     "execution_count": 17,
     "metadata": {},
     "output_type": "execute_result"
    }
   ],
   "source": [
    "def conf_matrix(y_true, y_pred):\n",
    "    cm = {'TP': 0, 'TN': 0, 'FP': 0, 'FN': 0}   \n",
    "    for ind, label in enumerate(y_true):\n",
    "        pred = y_pred[ind]\n",
    "        if label == 1: \n",
    "            if label == pred:\n",
    "                cm['TP'] += 1\n",
    "            else:\n",
    "                cm['FN'] += 1\n",
    "        else:\n",
    "            if label == pred:\n",
    "                cm['TN'] += 1\n",
    "            else:\n",
    "                cm['FP'] += 1\n",
    "    return cm\n",
    "\n",
    "conf_matrix(y_test, y_hat_test)"
   ]
  },
  {
   "cell_type": "code",
   "execution_count": 18,
   "metadata": {},
   "outputs": [
    {
     "data": {
      "text/plain": [
       "array([[8988, 1571],\n",
       "       [ 114,  540]], dtype=int64)"
      ]
     },
     "execution_count": 18,
     "metadata": {},
     "output_type": "execute_result"
    }
   ],
   "source": [
    "cnf_matrix = confusion_matrix(y_test, y_hat_test)\n",
    "cnf_matrix"
   ]
  },
  {
   "cell_type": "code",
   "execution_count": 22,
   "metadata": {},
   "outputs": [
    {
     "data": {
      "image/png": "[encoded data removed]",
      "text/plain": [
       "<Figure size 432x288 with 2 Axes>"
      ]
     },
     "metadata": {
      "needs_background": "light"
     },
     "output_type": "display_data"
    }
   ],
   "source": [
    "plot_confusion_matrix(logreg, X_test, y_test)\n",
    "plt.show()"
   ]
  },
  {
   "cell_type": "code",
   "execution_count": 36,
   "metadata": {},
   "outputs": [],
   "source": [
    "def model_eval(YTrain, YTest, YHat_Train, YHat_Test):\n",
    "    PrecisionTrain = precision_score(YTrain, YHat_Train)\n",
    "    PrecisionTest = precision_score(YTest, YHat_Test)\n",
    "    RecallTrain = recall_score(YTrain, YHat_Train)\n",
    "    RecallTest = recall_score(YTest, YHat_Test)\n",
    "    AccuracyTrain = accuracy_score(YTrain, YHat_Train)\n",
    "    AccuracyTest = accuracy_score(YTest, YHat_Test)\n",
    "    F1Train = f1_score(YTrain, YHat_Train)\n",
    "    F1Test = f1_score(YTest, YHat_Test)\n",
    "    print('Precision Score:\\nTrain: {}  Test: {}\\nRecall Score:\\nTrain: {}  Test {}\\nAccuracy Score:\\nTrain: {}  Test: {}\\nF1 Score:\\nTrain: {}  Test: {}'.format(\n",
    "                                                    PrecisionTrain, PrecisionTest, RecallTrain, RecallTest, \n",
    "                                                    AccuracyTrain, AccuracyTest, F1Train, F1Test))"
   ]
  },
  {
   "cell_type": "code",
   "execution_count": 38,
   "metadata": {},
   "outputs": [
    {
     "name": "stdout",
     "output_type": "stream",
     "text": [
      "Precision Score:\n",
      "Train: 1.0  Test: 0.25580293699668405\n",
      "Recall Score:\n",
      "Train: 1.0  Test 0.8256880733944955\n",
      "Accuracy Score:\n",
      "Train: 1.0  Test: 0.8497279942923393\n",
      "F1 Score:\n",
      "Train: 1.0  Test: 0.3905967450271248\n"
     ]
    }
   ],
   "source": [
    "model_eval(y_train, y_test, y_hat_train, y_hat_test)"
   ]
  },
  {
   "cell_type": "markdown",
   "metadata": {},
   "source": [
    "the precision and F1 score leave much to be desired, but recall and accuracy seem to be more of what I would expect. It will be interesting to see how these change as I continue to test different modeling approaches."
   ]
  }
 ],
 "metadata": {
  "kernelspec": {
   "display_name": "learn-env",
   "language": "python",
   "name": "learn-env"
  },
  "language_info": {
   "codemirror_mode": {
    "name": "ipython",
    "version": 3
   },
   "file_extension": ".py",
   "mimetype": "text/x-python",
   "name": "python",
   "nbconvert_exporter": "python",
   "pygments_lexer": "ipython3",
   "version": "3.6.9"
  }
 },
 "nbformat": 4,
 "nbformat_minor": 4
}
